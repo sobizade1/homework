{
  "nbformat": 4,
  "nbformat_minor": 0,
  "metadata": {
    "colab": {
      "provenance": [],
      "authorship_tag": "ABX9TyMDu3CNpDVjqCZMlIKpaUW6",
      "include_colab_link": true
    },
    "kernelspec": {
      "name": "python3",
      "display_name": "Python 3"
    },
    "language_info": {
      "name": "python"
    }
  },
  "cells": [
    {
      "cell_type": "markdown",
      "metadata": {
        "id": "view-in-github",
        "colab_type": "text"
      },
      "source": [
        "<a href=\"https://colab.research.google.com/github/sobizade1/homework/blob/main/functions__In_LLM.ipynb\" target=\"_parent\"><img src=\"https://colab.research.google.com/assets/colab-badge.svg\" alt=\"Open In Colab\"/></a>"
      ]
    },
    {
      "cell_type": "code",
      "execution_count": null,
      "metadata": {
        "colab": {
          "base_uri": "https://localhost:8080/"
        },
        "id": "SFT1Pj7wVMWj",
        "outputId": "09f5da44-d518-4d66-8f0b-36ad3242ed48"
      },
      "outputs": [
        {
          "output_type": "stream",
          "name": "stdout",
          "text": [
            "¯\\_(ツ)_/¯\n"
          ]
        }
      ],
      "source": [
        "print(\"¯\\_(ツ)_/¯\")\n"
      ]
    },
    {
      "cell_type": "code",
      "source": [
        "print(75 - 32 * 5 / 9)"
      ],
      "metadata": {
        "colab": {
          "base_uri": "https://localhost:8080/"
        },
        "id": "viV0WoVBXOky",
        "outputId": "0635b792-be7c-4a2a-fe09-bf0edddf91c6"
      },
      "execution_count": null,
      "outputs": [
        {
          "output_type": "stream",
          "name": "stdout",
          "text": [
            "57.22222222222222\n"
          ]
        }
      ]
    },
    {
      "cell_type": "code",
      "source": [
        "t=True\n",
        "while t:\n",
        "  f=int(input(\"Enter the temperature in degrees Fahrenheit: \"))\n",
        "  print(f\"The temperature {f} in degrees celsius is {(f - 32) * 5 / 9}C\")\n",
        "  t=bool(input(\"do you want to convert more\")).lower()"
      ],
      "metadata": {
        "colab": {
          "base_uri": "https://localhost:8080/",
          "height": 228
        },
        "id": "IxN-hF4NYIh4",
        "outputId": "c9fc3394-1d0b-4431-bb53-1e0c708e404e"
      },
      "execution_count": null,
      "outputs": [
        {
          "name": "stdout",
          "output_type": "stream",
          "text": [
            "Enter the temperature in degrees Fahrenheit: 5\n",
            "The temperature 5 in degrees celsius is -15.0C\n",
            "do you want to convert morey\n"
          ]
        },
        {
          "output_type": "error",
          "ename": "AttributeError",
          "evalue": "'bool' object has no attribute 'lower'",
          "traceback": [
            "\u001b[0;31m---------------------------------------------------------------------------\u001b[0m",
            "\u001b[0;31mAttributeError\u001b[0m                            Traceback (most recent call last)",
            "\u001b[0;32m<ipython-input-7-7a52a3508254>\u001b[0m in \u001b[0;36m<cell line: 0>\u001b[0;34m()\u001b[0m\n\u001b[1;32m      3\u001b[0m   \u001b[0mf\u001b[0m\u001b[0;34m=\u001b[0m\u001b[0mint\u001b[0m\u001b[0;34m(\u001b[0m\u001b[0minput\u001b[0m\u001b[0;34m(\u001b[0m\u001b[0;34m\"Enter the temperature in degrees Fahrenheit: \"\u001b[0m\u001b[0;34m)\u001b[0m\u001b[0;34m)\u001b[0m\u001b[0;34m\u001b[0m\u001b[0;34m\u001b[0m\u001b[0m\n\u001b[1;32m      4\u001b[0m   \u001b[0mprint\u001b[0m\u001b[0;34m(\u001b[0m\u001b[0;34mf\"The temperature {f} in degrees celsius is {(f - 32) * 5 / 9}C\"\u001b[0m\u001b[0;34m)\u001b[0m\u001b[0;34m\u001b[0m\u001b[0;34m\u001b[0m\u001b[0m\n\u001b[0;32m----> 5\u001b[0;31m   \u001b[0mt\u001b[0m\u001b[0;34m=\u001b[0m\u001b[0mbool\u001b[0m\u001b[0;34m(\u001b[0m\u001b[0minput\u001b[0m\u001b[0;34m(\u001b[0m\u001b[0;34m\"do you want to convert more\"\u001b[0m\u001b[0;34m)\u001b[0m\u001b[0;34m)\u001b[0m\u001b[0;34m.\u001b[0m\u001b[0mlower\u001b[0m\u001b[0;34m(\u001b[0m\u001b[0;34m)\u001b[0m\u001b[0;34m\u001b[0m\u001b[0;34m\u001b[0m\u001b[0m\n\u001b[0m",
            "\u001b[0;31mAttributeError\u001b[0m: 'bool' object has no attribute 'lower'"
          ]
        }
      ]
    },
    {
      "cell_type": "markdown",
      "source": [
        "LIST WITH OTHER DATATYPES"
      ],
      "metadata": {
        "id": "uDloqLg_nfaU"
      }
    },
    {
      "cell_type": "code",
      "source": [
        "friends=[\"ASMA\",\"SOBIA\",\"SABA\",\"JAVERIA\",123,True]\n",
        "print(\"\"\" my friends list is \"\"\",friends)\n",
        "num=list[12.34.56.78]\n",
        "print ([i for in num  num[i*2])"
      ],
      "metadata": {
        "colab": {
          "base_uri": "https://localhost:8080/",
          "height": 106
        },
        "id": "qDMWe-_pnji-",
        "outputId": "ae7dfcb8-6e68-40b6-9b2b-9c69af7ee208"
      },
      "execution_count": null,
      "outputs": [
        {
          "output_type": "error",
          "ename": "SyntaxError",
          "evalue": "closing parenthesis ')' does not match opening parenthesis '[' (<ipython-input-3-b6ac93cde5d9>, line 4)",
          "traceback": [
            "\u001b[0;36m  File \u001b[0;32m\"<ipython-input-3-b6ac93cde5d9>\"\u001b[0;36m, line \u001b[0;32m4\u001b[0m\n\u001b[0;31m    print ([i for in num  num[i**2])\u001b[0m\n\u001b[0m                                   ^\u001b[0m\n\u001b[0;31mSyntaxError\u001b[0m\u001b[0;31m:\u001b[0m closing parenthesis ')' does not match opening parenthesis '['\n"
          ]
        }
      ]
    },
    {
      "cell_type": "code",
      "source": [],
      "metadata": {
        "id": "sv9KhXwtnewl"
      },
      "execution_count": null,
      "outputs": []
    },
    {
      "cell_type": "markdown",
      "source": [
        "functions in llm"
      ],
      "metadata": {
        "id": "O0bVPpJGIH0N"
      }
    },
    {
      "cell_type": "code",
      "source": [
        "from helper_functions import get_llm_response\n",
        "name = \"Tommy\"\n",
        "potatoes = 4.75\n",
        "prompt = f\"\"\"Write a couplet about my friend {name} who has about {round(potatoes)} potatoes\"\"\"\n",
        "response = get_llm_response(prompt)\n",
        "print(response)"
      ],
      "metadata": {
        "colab": {
          "base_uri": "https://localhost:8080/",
          "height": 69
        },
        "id": "2pGT8yeAILpz",
        "outputId": "8ff7ac05-ddab-4691-c192-1bd02e1e836d"
      },
      "execution_count": null,
      "outputs": [
        {
          "output_type": "stream",
          "name": "stdout",
          "text": [
            "Five spuds young Tommy proudly claims,\n",
            "A harvest small, yet worthy of his aims.\n",
            "\n"
          ]
        }
      ]
    },
    {
      "cell_type": "markdown",
      "source": [
        "Enter one of your favorite numbers. Multiply the result by 10 and save it to a variable called 'lucky_number'.\n",
        "# Print a message saying \"Your lucky number is [lucky_number]!\"\n"
      ],
      "metadata": {
        "id": "jJvQIE_xJiye"
      }
    },
    {
      "cell_type": "code",
      "source": [
        "def lucky_number(num1):\n",
        "     return(num1*10)\n",
        "\n",
        "my_number=int(input(\"enter your favorite number\"))\n",
        "print(f\"your lucky number is {lucky_number(my_number)}\")"
      ],
      "metadata": {
        "colab": {
          "base_uri": "https://localhost:8080/"
        },
        "id": "h-prJtjuIK7j",
        "outputId": "611ec109-c6b1-4e4b-b57b-1f37d2159271"
      },
      "execution_count": null,
      "outputs": [
        {
          "output_type": "stream",
          "name": "stdout",
          "text": [
            "enter your favorite number13\n",
            "your lucky number is 130\n"
          ]
        }
      ]
    },
    {
      "cell_type": "markdown",
      "source": [
        "# Use print_llm_response() to print a poem with the specified number of lines. Use the\n",
        "# prompt variable to save your prompt before calling print_llm_response()\n"
      ],
      "metadata": {
        "id": "aYneeprLLLHR"
      }
    },
    {
      "cell_type": "code",
      "source": [
        "from helper_functions import get_llm_response,print_llm_response\n",
        "def poem (topic,lines :int=3):\n",
        "    prompt=f\"\"\"write a poem on the topic {topic} of {lines} number of lines \"\"\"\n",
        "    print_llm_response(get_llm_response(prompt))\n",
        "\n",
        "topic=input(\"enter the topic of the poem\")\n",
        "lines=int(input(\"enter the number of lines\"))\n",
        "poem(topic,lines)"
      ],
      "metadata": {
        "colab": {
          "base_uri": "https://localhost:8080/",
          "height": 106
        },
        "id": "nfaFz9QPLRMX",
        "outputId": "22832ef4-4369-4092-bbe4-e4c984964ced"
      },
      "execution_count": 8,
      "outputs": [
        {
          "output_type": "stream",
          "name": "stdout",
          "text": [
            "enter the topic of the poemseason\n",
            "enter the number of lines4\n",
            "This is a lovely, concise poem capturing the essence of the four seasons.  The imagery is strong and evocative, and the rhythm is pleasing.  It's a good example of how much can be conveyed with few words.\n",
            "\n"
          ]
        }
      ]
    },
    {
      "cell_type": "markdown",
      "source": [
        "Write a program that prints out the calls for a spaceship that is about to launch. Countdown from 10 to 1 and then output Liftoff!"
      ],
      "metadata": {
        "id": "sJhOc4sZdLj3"
      }
    },
    {
      "cell_type": "code",
      "source": [
        "for i in range(10):\n",
        "    print(10-i,end=\" \")\n",
        "print(\"lift off\")"
      ],
      "metadata": {
        "colab": {
          "base_uri": "https://localhost:8080/"
        },
        "id": "niPJCsd2dSXl",
        "outputId": "8e3ba9ed-c896-41e0-a6a6-afbdc3470a14"
      },
      "execution_count": 15,
      "outputs": [
        {
          "output_type": "stream",
          "name": "stdout",
          "text": [
            "10 9 8 7 6 5 4 3 2 1 lift off\n"
          ]
        }
      ]
    },
    {
      "cell_type": "markdown",
      "source": [
        "Guess My Number\n",
        "\n",
        "I am thinking of a number between 0 and 99... Enter a guess: 50 Your guess is too high\n",
        "\n",
        "Enter a new number: 25 Your guess is too low\n",
        "\n",
        "Enter a new number: 40 Your guess is too low\n",
        "\n",
        "Enter a new number: 45 Your guess is too low\n",
        "\n",
        "Enter a new number: 48 Congrats! The number was: 48"
      ],
      "metadata": {
        "id": "u3SwHRTXfSSR"
      }
    },
    {
      "cell_type": "code",
      "source": [
        "import random\n",
        "guess_no=random.randint(0,99)\n",
        "print(\"Guess my number. I am thinking of a number between 0 and 99\")\n",
        "n=True\n",
        "while n:\n",
        "  number=int(input(\"enter your guess number\"))\n",
        "  if number>guess_no:\n",
        "     print(\"your guess is too high\")\n",
        "\n",
        "  elif number<guess_no:\n",
        "     print(\"your guess is too low\")\n",
        "  elif number==guess_no:\n",
        "     print(f\"congrats! the number was {guess_no}\")\n",
        "     break\n",
        "  else:\n",
        "     print(\"invalid input\")\n",
        "\n",
        "\n"
      ],
      "metadata": {
        "colab": {
          "base_uri": "https://localhost:8080/"
        },
        "id": "nKCnIrbpfdp0",
        "outputId": "80fef89c-cce7-42bf-fe1f-ee4c6bdc8311"
      },
      "execution_count": 18,
      "outputs": [
        {
          "output_type": "stream",
          "name": "stdout",
          "text": [
            "Guess my number. I am thinking of a number between 0 and 99\n",
            "enter your guess number78\n",
            "your guess is too high\n",
            "enter your guess number50\n",
            "your guess is too low\n",
            "enter your guess number70\n",
            "your guess is too high\n",
            "enter your guess number60\n",
            "your guess is too low\n",
            "enter your guess number62\n",
            "your guess is too low\n",
            "enter your guess number68\n",
            "your guess is too high\n",
            "enter your guess number66\n",
            "congrats! the number was 66\n"
          ]
        }
      ]
    },
    {
      "cell_type": "code",
      "source": [],
      "metadata": {
        "id": "e8ZTOr7QfdYf"
      },
      "execution_count": null,
      "outputs": []
    },
    {
      "cell_type": "code",
      "source": [],
      "metadata": {
        "id": "uM15j7-mfc_4"
      },
      "execution_count": null,
      "outputs": []
    }
  ]
}