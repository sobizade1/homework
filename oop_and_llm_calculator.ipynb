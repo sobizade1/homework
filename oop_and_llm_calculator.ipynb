{
  "nbformat": 4,
  "nbformat_minor": 0,
  "metadata": {
    "colab": {
      "provenance": [],
      "authorship_tag": "ABX9TyPfoKBuzMvAxdac+BInXPmw",
      "include_colab_link": true
    },
    "kernelspec": {
      "name": "python3",
      "display_name": "Python 3"
    },
    "language_info": {
      "name": "python"
    }
  },
  "cells": [
    {
      "cell_type": "markdown",
      "metadata": {
        "id": "view-in-github",
        "colab_type": "text"
      },
      "source": [
        "<a href=\"https://colab.research.google.com/github/sobizade1/homework/blob/main/oop_and_llm_calculator.ipynb\" target=\"_parent\"><img src=\"https://colab.research.google.com/assets/colab-badge.svg\" alt=\"Open In Colab\"/></a>"
      ]
    },
    {
      "cell_type": "code",
      "execution_count": 4,
      "metadata": {
        "colab": {
          "base_uri": "https://localhost:8080/"
        },
        "id": "y3XWrrot6_fS",
        "outputId": "c37e0c57-7891-4d2e-8f79-62a053e7d241"
      },
      "outputs": [
        {
          "output_type": "stream",
          "name": "stdout",
          "text": [
            "this is my house, address is E97, Malir, karachi \n",
            " In my house there are 4 rooms and 2 doors\n",
            "ring ring\n",
            "this is my house, address is E98, Malir, karachi \n",
            " In my house there are 2 rooms and 4 doors\n",
            "ring ring\n"
          ]
        }
      ],
      "source": [
        "class House:\n",
        "  address:str\n",
        "  doors:int\n",
        "  rooms:int\n",
        "  def __init__(self,address:str,doors:int,rooms:int):\n",
        "    self.address=address\n",
        "    self.doors=doors\n",
        "    self.rooms=rooms\n",
        "    print(f\"this is my house, address is {self.address} \\n In my house there are {rooms} rooms and {doors} doors\")\n",
        "  def ring_bell(self):\n",
        "    print(\"ring ring\")\n",
        "object_house=House(\"E97, Malir, karachi\",2,4)\n",
        "object_house.ring_bell()\n",
        "object_house2=House(\"E98, Malir, karachi\",4,2)\n",
        "object_house2.ring_bell()"
      ]
    },
    {
      "cell_type": "markdown",
      "source": [
        "object oriented calculator"
      ],
      "metadata": {
        "id": "IVQ-5aM78T72"
      }
    },
    {
      "cell_type": "code",
      "source": [
        "from helper_functions import get_llm_response, get_llm_response\n",
        "prompt=get_llm_response(\"what is keyboard shortcut key to make multiple lines comments in python\")\n",
        "print(prompt)\n"
      ],
      "metadata": {
        "colab": {
          "base_uri": "https://localhost:8080/",
          "height": 228
        },
        "id": "qsriug5o8c4u",
        "outputId": "f742539e-75da-4047-a6c8-dd983017dab6"
      },
      "execution_count": 9,
      "outputs": [
        {
          "output_type": "stream",
          "name": "stdout",
          "text": [
            "There isn't a single keyboard shortcut to comment out multiple lines in Python that works universally across all code editors and IDEs.  The shortcut depends on your specific editor or IDE.\n",
            "\n",
            "However, most editors provide a way to do this, often involving selecting the lines you want to comment and then using a specific key combination.  Common approaches include:\n",
            "\n",
            "* **Ctrl + / (or Cmd + / on macOS):** This is a very common shortcut in many editors (like VS Code, Sublime Text, Atom, and others) to toggle commenting on selected lines.  If the lines are already commented, it uncomments them.\n",
            "\n",
            "* **Selecting lines and using the editor's comment/uncomment command:** Many editors have a menu command (often under \"Edit\" or \"Source\") to comment or uncomment selected lines.\n",
            "\n",
            "\n",
            "**In short:**  You need to check your editor's documentation or keymap settings to find the exact shortcut.  The `Ctrl + /` (or `Cmd + /`) combination is a good place to start, but it's not guaranteed to work in every editor.\n",
            "\n"
          ]
        }
      ]
    },
    {
      "cell_type": "markdown",
      "source": [
        "OOP CALCULATOR"
      ],
      "metadata": {
        "id": "NxK8eB03-784"
      }
    },
    {
      "cell_type": "markdown",
      "source": [
        "class Calculator:\n",
        "    def add(self, x, y):\n",
        "        return x + y\n",
        "\n",
        "    def subtract(self, x, y):\n",
        "        return x - y\n",
        "\n",
        "    def multiply(self, x, y):\n",
        "        return x * y\n",
        "\n",
        "    def divide(self, x, y):\n",
        "        if y == 0:\n",
        "            raise ZeroDivisionError(\"Cannot divide by zero\")\n",
        "        return x / y\n",
        "\n",
        "# Example usage\n",
        "calc = Calculator()\n",
        "\n",
        "print(calc.add(5, 3))       # Output: 8\n",
        "print(calc.subtract(10, 4))  # Output: 6\n",
        "print(calc.multiply(7, 2))  # Output: 14\n",
        "print(calc.divide(15, 3))   # Output: 5.0\n",
        "\n",
        "try:\n",
        "    print(calc.divide(10, 0))  # Raises ZeroDivisionError\n",
        "except ZeroDivisionError as e:\n",
        "    print(e) # Output: Cannot divide by zero\n",
        "\n",
        "```\n",
        "\n",
        "+\"))  # Output: 8\n",
        "print(calc.perform_operation(10, 4, \"-\")) # Output: 6\n",
        "print(calc.perform_operation(7, 2, \"*\"))  # Output: 14\n",
        "print(calc.perform_operation(15, 3, \"/\")) # Output: 5.0\n",
        "\n",
        "try:\n",
        "    print(calc.perform_operation(10, 0, \"/\"))  # Raises ZeroDivisionError\n",
        "except ZeroDivisionError as e:\n",
        "    print(e) # Output: Cannot divide by zero\n",
        "\n",
        "try:\n",
        "    print(calc.perform_operation(5,3,'^')) #Raises ValueError\n",
        "except ValueError as e:\n",
        "    print(e) #Output: Invalid operator\n",
        "```"
      ],
      "metadata": {
        "id": "Vg9e80ZS--1u"
      }
    },
    {
      "cell_type": "code",
      "source": [
        "# **Method 2:  More Advanced Calculator with Operation Classes**\n",
        "\n",
        "# This approach uses separate classes for each operation. This is more organized and allows for easier extension with new operations or more complex functionalities in the future.\n",
        "\n",
        "# ```python\n",
        "class Operation:  # Base class for operations\n",
        "    def calculate(self, x, y):\n",
        "        raise NotImplementedError(\"Subclasses must implement this method\")\n",
        "\n",
        "\n",
        "class Add(Operation):\n",
        "    def calculate(self, x, y):\n",
        "        return x + y\n",
        "\n",
        "\n",
        "class Subtract(Operation):\n",
        "    def calculate(self, x, y):\n",
        "        return x - y\n",
        "\n",
        "\n",
        "class Multiply(Operation):\n",
        "    def calculate(self, x, y):\n",
        "        return x * y\n",
        "\n",
        "\n",
        "class Divide(Operation):\n",
        "    def calculate(self, x, y):\n",
        "        if y == 0:\n",
        "            raise ZeroDivisionError(\"Cannot divide by zero\")\n",
        "        return x / y\n",
        "\n",
        "\n",
        "class Calculator:\n",
        "    def __init__(self):\n",
        "        self.operations = {\n",
        "            \"+\": Add(),\n",
        "            \"-\": Subtract(),\n",
        "            \"*\": Multiply(),\n",
        "            \"/\": Divide(),\n",
        "        }\n",
        "\n",
        "    def perform_operation(self, x, y, operator):\n",
        "        if operator not in self.operations:\n",
        "            raise ValueError(\"Invalid operator\")\n",
        "        operation = self.operations[operator]\n",
        "        return operation.calculate(x, y)\n",
        "\n",
        "\n",
        "# Example Usage\n",
        "calc = Calculator()\n",
        "\n"
      ],
      "metadata": {
        "id": "E3czS6nX_OZO"
      },
      "execution_count": null,
      "outputs": []
    },
    {
      "cell_type": "code",
      "source": [
        "#OOP CALCULATOR\n",
        "class Calculator:\n",
        "  # num1:int\n",
        "  # num2:int\n",
        "  # op:str\n",
        "  # def __init__(self,x:int,y:int,operator:str):\n",
        "  #   self.num1=x\n",
        "  #   self.num2=y\n",
        "  #   self.op=operator\n",
        "  def add(self, x, y):\n",
        "    return x + y\n",
        "\n",
        "  def subtract(self, x, y):\n",
        "    return x - y\n",
        "\n",
        "  def multiply(self, x, y):\n",
        "    return x * y\n",
        "\n",
        "  def divide(self, x, y):\n",
        "    if y == 0:\n",
        "        raise ZeroDivisionError(\"Cannot divide by zero\")\n",
        "    return x / y\n",
        "\n",
        "calc = Calculator()\n",
        "ch=True\n",
        "while ch:\n",
        "  x=int(input(\"enter first number\"))\n",
        "  y=int(input(\"enter second number\"))\n",
        "  operator=input(\"enter operator\")\n",
        "  if operator==\"+\":\n",
        "    print(f\"result of addition is {calc.add(x,y)}\")\n",
        "  elif operator==\"-\":\n",
        "    print(f\"result of subtraction is {calc.subtract(x,y)}\")\n",
        "  elif operator==\"*\":\n",
        "    print(f\"result of multiplication is {calc.multiply(x,y)}\")\n",
        "  elif operator==\"/\":\n",
        "    print(calc.divide(x,y))\n",
        "  else:\n",
        "    print(\"invalid operator\")\n",
        "  ch=input(\"Do you want to do more calcuations y/n\")\n",
        "\n",
        "#try: print(calc.divide(10, 0)) # Raises ZeroDivisionError except ZeroDivisionError as e: print(e) # Output: Cannot divide by zero\n",
        "\n",
        "# print(calc.perform_operation(10, 4, \"-\")) # Output: 6\n",
        "# print(calc.perform_operation(7, 2, \"*\"))  # Output: 14\n",
        "# print(calc.perform_operation(15, 3, \"/\")) # Output: 5.0\n",
        "\n",
        "try:\n",
        "    print(calc.perform_operation(10, 0, \"/\"))  # Raises ZeroDivisionError\n",
        "except ZeroDivisionError as e:\n",
        "    print(e) # Output: Cannot divide by zero\n",
        "\n",
        "except ValueError as e:\n",
        "    print(e) #Output: Invalid operator"
      ],
      "metadata": {
        "colab": {
          "base_uri": "https://localhost:8080/",
          "height": 436
        },
        "id": "GYK_wOuC_lAP",
        "outputId": "624bff54-e4ca-4927-a3e2-ce1d9a9913b4"
      },
      "execution_count": 14,
      "outputs": [
        {
          "name": "stdout",
          "output_type": "stream",
          "text": [
            "enter first number23\n",
            "enter second number2\n",
            "enter operator+\n",
            "result of addition is 25\n",
            "Do you want to do more calcuations y/ny\n",
            "enter first number23\n",
            "enter second number4\n",
            "enter operator-\n",
            "result of subtraction is 19\n",
            "Do you want to do more calcuations y/ny\n",
            "enter first number100\n",
            "enter second number0\n",
            "enter operator/\n"
          ]
        },
        {
          "output_type": "error",
          "ename": "NameError",
          "evalue": "name 'X' is not defined",
          "traceback": [
            "\u001b[0;31m---------------------------------------------------------------------------\u001b[0m",
            "\u001b[0;31mNameError\u001b[0m                                 Traceback (most recent call last)",
            "\u001b[0;32m<ipython-input-14-98e789598c96>\u001b[0m in \u001b[0;36m<cell line: 0>\u001b[0;34m()\u001b[0m\n\u001b[1;32m     35\u001b[0m     \u001b[0mprint\u001b[0m\u001b[0;34m(\u001b[0m\u001b[0;34mf\"result of multiplication is {calc.multiply(x,y)}\"\u001b[0m\u001b[0;34m)\u001b[0m\u001b[0;34m\u001b[0m\u001b[0;34m\u001b[0m\u001b[0m\n\u001b[1;32m     36\u001b[0m   \u001b[0;32melif\u001b[0m \u001b[0moperator\u001b[0m\u001b[0;34m==\u001b[0m\u001b[0;34m\"/\"\u001b[0m\u001b[0;34m:\u001b[0m\u001b[0;34m\u001b[0m\u001b[0;34m\u001b[0m\u001b[0m\n\u001b[0;32m---> 37\u001b[0;31m     \u001b[0mprint\u001b[0m\u001b[0;34m(\u001b[0m\u001b[0mcalc\u001b[0m\u001b[0;34m.\u001b[0m\u001b[0mdivide\u001b[0m\u001b[0;34m(\u001b[0m\u001b[0mX\u001b[0m\u001b[0;34m,\u001b[0m\u001b[0mY\u001b[0m\u001b[0;34m)\u001b[0m\u001b[0;34m)\u001b[0m\u001b[0;34m\u001b[0m\u001b[0;34m\u001b[0m\u001b[0m\n\u001b[0m\u001b[1;32m     38\u001b[0m   \u001b[0;32melse\u001b[0m\u001b[0;34m:\u001b[0m\u001b[0;34m\u001b[0m\u001b[0;34m\u001b[0m\u001b[0m\n\u001b[1;32m     39\u001b[0m     \u001b[0mprint\u001b[0m\u001b[0;34m(\u001b[0m\u001b[0;34m\"invalid operator\"\u001b[0m\u001b[0;34m)\u001b[0m\u001b[0;34m\u001b[0m\u001b[0;34m\u001b[0m\u001b[0m\n",
            "\u001b[0;31mNameError\u001b[0m: name 'X' is not defined"
          ]
        }
      ]
    }
  ]
}