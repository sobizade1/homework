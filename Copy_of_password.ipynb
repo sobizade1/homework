{
  "nbformat": 4,
  "nbformat_minor": 0,
  "metadata": {
    "colab": {
      "provenance": [],
      "authorship_tag": "ABX9TyN/tW4bMcSRF+ZByvf25Fg8",
      "include_colab_link": true
    },
    "kernelspec": {
      "name": "python3",
      "display_name": "Python 3"
    },
    "language_info": {
      "name": "python"
    }
  },
  "cells": [
    {
      "cell_type": "markdown",
      "metadata": {
        "id": "view-in-github",
        "colab_type": "text"
      },
      "source": [
        "<a href=\"https://colab.research.google.com/github/sobizade1/homework/blob/main/Copy_of_password.ipynb\" target=\"_parent\"><img src=\"https://colab.research.google.com/assets/colab-badge.svg\" alt=\"Open In Colab\"/></a>"
      ]
    },
    {
      "cell_type": "code",
      "execution_count": null,
      "metadata": {
        "colab": {
          "base_uri": "https://localhost:8080/"
        },
        "id": "lccHf3kOEs_g",
        "outputId": "a473abd3-db9b-4724-be94-677e6ac82911"
      },
      "outputs": [
        {
          "output_type": "stream",
          "name": "stdout",
          "text": [
            "Enter desired password length (at least 8): 5\n",
            "Password length must be at least 8 characters.\n",
            "Enter desired password length (at least 8): 10\n",
            "Include uppercase letters? (y/n): y\n",
            "Include lowercase letters? (y/n): y\n",
            "Include numbers? (y/n): y\n",
            "Include symbols? (y/n): y\n",
            "Generated password: gfsxmEvf$s\n"
          ]
        }
      ],
      "source": [
        "import random\n",
        "import string\n",
        "\n",
        "def generate_password(length=12, include_uppercase=True, include_lowercase=True, include_numbers=True, include_symbols=True):\n",
        "    \"\"\"Generates a random password with customizable options.\n",
        "\n",
        "    Args:\n",
        "        length: The desired length of the password (default is 12).\n",
        "        include_uppercase: Whether to include uppercase letters (default is True).\n",
        "        include_lowercase: Whether to include lowercase letters (default is True).\n",
        "        include_numbers: Whether to include numbers (default is True).\n",
        "        include_symbols: Whether to include symbols (default is True).\n",
        "\n",
        "    Returns:\n",
        "        A randomly generated password string, or None if no character sets are selected.\n",
        "    \"\"\"\n",
        "\n",
        "    characters = \"\"\n",
        "    if include_uppercase:\n",
        "        characters += string.ascii_uppercase\n",
        "    if include_lowercase:\n",
        "        characters += string.ascii_lowercase\n",
        "    if include_numbers:\n",
        "        characters += string.digits\n",
        "    if include_symbols:\n",
        "        characters += string.punctuation\n",
        "\n",
        "    if not characters:  # Check if at least one character set is selected\n",
        "        return None\n",
        "\n",
        "    password = ''.join(random.choice(characters) for i in range(length))\n",
        "    return password\n",
        "\n",
        "\n",
        "if __name__ == \"__main__\":\n",
        "    # Get password length from user\n",
        "    while True:\n",
        "        try:\n",
        "            length = int(input(\"Enter desired password length (at least 8): \"))\n",
        "            if length >= 8:\n",
        "                break\n",
        "            else:\n",
        "                print(\"Password length must be at least 8 characters.\")\n",
        "        except ValueError:\n",
        "            print(\"Invalid input. Please enter a number.\")\n",
        "\n",
        "    # Get character set options from user\n",
        "    include_uppercase = input(\"Include uppercase letters? (y/n): \").lower() == 'y'\n",
        "    include_lowercase = input(\"Include lowercase letters? (y/n): \").lower() == 'y'\n",
        "    include_numbers = input(\"Include numbers? (y/n): \").lower() == 'y'\n",
        "    include_symbols = input(\"Include symbols? (y/n): \").lower() == 'y'\n",
        "\n",
        "    password = generate_password(length, include_uppercase, include_lowercase, include_numbers, include_symbols)\n",
        "\n",
        "    if password:\n",
        "        print(\"Generated password:\", password)\n",
        "    else:\n",
        "        print(\"Please select at least one character set.\")\n"
      ]
    }
  ]
}