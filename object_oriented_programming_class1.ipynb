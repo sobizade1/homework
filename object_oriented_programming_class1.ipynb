{
  "nbformat": 4,
  "nbformat_minor": 0,
  "metadata": {
    "colab": {
      "provenance": [],
      "authorship_tag": "ABX9TyNfIun3kXSPWVV5Gt+nwCKc",
      "include_colab_link": true
    },
    "kernelspec": {
      "name": "python3",
      "display_name": "Python 3"
    },
    "language_info": {
      "name": "python"
    }
  },
  "cells": [
    {
      "cell_type": "markdown",
      "metadata": {
        "id": "view-in-github",
        "colab_type": "text"
      },
      "source": [
        "<a href=\"https://colab.research.google.com/github/sobizade1/homework/blob/main/object_oriented_programming_class1.ipynb\" target=\"_parent\"><img src=\"https://colab.research.google.com/assets/colab-badge.svg\" alt=\"Open In Colab\"/></a>"
      ]
    },
    {
      "cell_type": "code",
      "execution_count": 3,
      "metadata": {
        "colab": {
          "base_uri": "https://localhost:8080/"
        },
        "id": "tuIxtD-ELyrc",
        "outputId": "25d813e2-4076-4465-f015-955fb0da242e"
      },
      "outputs": [
        {
          "output_type": "stream",
          "name": "stdout",
          "text": [
            "Ding Dong!\n",
            "my House Address: House No. 123\n"
          ]
        }
      ],
      "source": [
        "# This is a class\n",
        "class House:\n",
        "  address:str\n",
        "  number_of_doors: int = 2\n",
        "  number_of_rooms: int = 4\n",
        "\n",
        "  def __init__(self, address: str):\n",
        "    self.address = address\n",
        "\n",
        "  def ring_bell(self):\n",
        "    print(\"Ding Dong!\")\n",
        "\n",
        "#  This is an Object\n",
        "myhouse = House(\"House No. 123\")\n",
        "myhouse.ring_bell()\n",
        "\n",
        "first_name = \"abc\"\n",
        "print(f\"my House Address: {myhouse.address}\")\n",
        "\n",
        "\n",
        "# najam_house = House(\"House No. 456\")\n",
        "# print(f\"Namjam House Address: {najam_house.address}\")\n"
      ]
    }
  ]
}