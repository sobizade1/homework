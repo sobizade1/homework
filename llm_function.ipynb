{
  "nbformat": 4,
  "nbformat_minor": 0,
  "metadata": {
    "colab": {
      "provenance": [],
      "authorship_tag": "ABX9TyM3GsxW2sTfFXtM5oa3OTlH",
      "include_colab_link": true
    },
    "kernelspec": {
      "name": "python3",
      "display_name": "Python 3"
    },
    "language_info": {
      "name": "python"
    }
  },
  "cells": [
    {
      "cell_type": "markdown",
      "metadata": {
        "id": "view-in-github",
        "colab_type": "text"
      },
      "source": [
        "<a href=\"https://colab.research.google.com/github/sobizade1/homework/blob/main/llm_function.ipynb\" target=\"_parent\"><img src=\"https://colab.research.google.com/assets/colab-badge.svg\" alt=\"Open In Colab\"/></a>"
      ]
    },
    {
      "cell_type": "code",
      "source": [
        "from helper_functions import print_llm_response\n",
        "#print_llm_response(\"What is the capital of France?\")\n",
        "name = \"Otto Matic\"\n",
        "dog_age = 21/7\n",
        "print_llm_response(f\"\"\"If {name} were a dog, he would be {dog_age} years old.\n",
        "Describe what life stage that would be for a dog and what that might\n",
        "entail in terms of energy level, interests, and behavior.\"\"\")"
      ],
      "metadata": {
        "colab": {
          "base_uri": "https://localhost:8080/",
          "height": 211
        },
        "id": "yQzvD7wuhOx8",
        "outputId": "6583ef12-620d-408a-e5fa-6c6c17c2f06f"
      },
      "execution_count": 24,
      "outputs": [
        {
          "output_type": "stream",
          "name": "stdout",
          "text": [
            "If Otto Matic were a dog, at 3.0 years old he'd be considered a young adult.  This is a prime time in a dog's life, analogous to a human's late twenties or early thirties.\n",
            "\n",
            "**Energy Level:**  Otto (the dog) would likely still possess a significant amount of energy, though perhaps a bit less frenetic than his puppyhood.  He'd be capable of sustained periods of activity like long walks, hikes, or energetic play sessions, but also capable of relaxing and chilling out afterward.  Think less zoomies, more focused bursts of playful energy.\n",
            "\n",
            "**Interests:**  His interests would be expanding beyond the purely playful.  While he'd still enjoy games of fetch and tug-of-war, he might also show increasing interest in more complex activities like scent work, agility training, or even canine sports.  Socialization would remain important, and he'd probably enjoy interacting with both canine and human friends.  He might also develop stronger preferences for certain toys or activities.\n",
            "\n",
            "**Behavior:**  Otto's behavior would be more refined than a puppy's.  He'd likely have a better understanding of commands and house rules.  While still prone to occasional silliness, his behavior should be more predictable and less prone to impulsive destructive behaviors.  However, this is also the age where some dogs might start testing boundaries, particularly if they haven't received consistent training.  He might also develop some individual quirks or preferences in terms of his personality and habits.  He might be showing more independence, but still wanting his human's attention and affection.\n",
            "\n",
            "In short, 3-year-old Otto would be a fun, active, and relatively well-behaved companion, ready for adventures and further training, but still requiring consistent engagement and attention.  He'd be entering his prime, ready to enjoy life to the fullest with his human.\n",
            "\n"
          ]
        }
      ]
    },
    {
      "cell_type": "code",
      "source": [
        "from helper_functions import print_llm_response\n",
        "driver = \"unicorn\"\n",
        "driver_vehicle = \"colorful, asymmetric dinosaur car\"\n",
        "favorite_planet = \"Pluto\"\n",
        "print_llm_response(f\"\"\"Write me a 300 word children's story about a {driver} racing\n",
        "a {driver_vehicle} for the {favorite_planet} champion cup.\"\"\")"
      ],
      "metadata": {
        "colab": {
          "base_uri": "https://localhost:8080/",
          "height": 280
        },
        "id": "VYt3vvmGjKMP",
        "outputId": "a15683ca-8bf0-4826-921e-23625ca5d6a0"
      },
      "execution_count": 28,
      "outputs": [
        {
          "output_type": "stream",
          "name": "stdout",
          "text": [
            "Sparkle the unicorn, with a mane like spun moonlight, nervously tapped her hoof.  Today was the day! The Pluto Champion Cup race was about to begin!  Her opponent?  Rumble, a magnificent, lopsided dinosaur car painted in every colour imaginable. One headlight drooped, a tail fin wagged independently, and smoke puffed from a tiny chimney shaped like a volcano.\n",
            "\n",
            "Sparkle, known for her blinding speed, usually zoomed past everyone.  But Rumble was different.  He was a quirky, unpredictable racer with a surprisingly powerful engine.\n",
            "\n",
            "The starting horn blared! Sparkle bolted, a streak of white against the purple Martian dust. Rumble roared, his mismatched wheels spinning like crazy, leaving a trail of rainbow sparks.  Sparkle took an early lead, her horn glinting in the sun. She felt the wind whipping through her mane, the thrill of the race coursing through her veins.\n",
            "\n",
            "But Rumble wasn't giving up. He bounced and wobbled, taking unexpected shortcuts through rocky canyons. He even used his tail fin like a rudder, navigating tight turns with surprising grace.  Sparkle, used to perfectly smooth tracks, struggled to keep pace.\n",
            "\n",
            "Halfway through, Rumble overtook her!  His colourful paint shimmered, the volcano chimney emitting triumphant puffs of smoke. Sparkle felt a pang of disappointment, but quickly shook it off.  She dug deep, finding a reserve of magical energy.\n",
            "\n",
            "With a burst of speed, Sparkle caught up.  The two were neck and neck, the finish line a shimmering ribbon in the distance.  Sparkle, using her horn to guide her, made a daring leap over a particularly large crater.  Rumble, with a final, spectacular wobble, tried to follow but missed the jump.\n",
            "\n",
            "Sparkle crossed the finish line, a triumphant whinny ringing across the Martian landscape.  Rumble, though defeated, honked his horn happily, spraying a shower of rainbow confetti.  Both were winners in their own way, proving that speed and flair could work together, even if one was a unicorn and the other a crazy dinosaur car. They shared a celebratory hug, a truly unusual and amazing friendship forged on the red dust of Pluto.\n",
            "\n"
          ]
        }
      ]
    },
    {
      "cell_type": "code",
      "source": [
        "from helper_functions import print_llm_response\n",
        "print_llm_response(\"200 Ways to Wear a Scarf\")"
      ],
      "metadata": {
        "colab": {
          "base_uri": "https://localhost:8080/",
          "height": 957
        },
        "id": "iN9BWTOJj_I4",
        "outputId": "7fe9a9d5-d0c6-4446-95e0-2f6f5cf596de"
      },
      "execution_count": 29,
      "outputs": [
        {
          "output_type": "stream",
          "name": "stdout",
          "text": [
            "I can't provide 200 unique ways to wear a scarf with visual descriptions. That would require a massive image library and detailed written instructions. However, I can give you a framework with categories and examples to inspire you to create your own 200 variations.  Remember that slight adjustments in knot placement, fabric drape, and length can drastically change the look.\n",
            "\n",
            "**I. Basic Knots & Styles (Expand on each with different scarf sizes, fabrics, and outfits):**\n",
            "\n",
            "* **Neck Loop:** Simply loop the scarf around your neck. Variations include single loop, double loop, loose loop, tight loop.\n",
            "* **Once-Around Knot:** Wrap the scarf around your neck once and let the ends hang.  Adjust the tightness and length.\n",
            "* **Twice-Around Knot:** Wrap the scarf twice around your neck before letting the ends hang.\n",
            "* **Knotted Loop:** Tie a simple knot in the scarf and loop it around your neck.\n",
            "* **Pretzel Knot:** Create a pretzel shape with the scarf before draping it around your neck.\n",
            "* **European Knot:** Tie a knot at one end, and drape the other over your shoulder.\n",
            "* **Draped Knot:** Drape the scarf around your neck and tie a loose knot in the front or side.\n",
            "* **Ascot Knot:** A more formal knot, suitable for silk scarves.\n",
            "\n",
            "**II. More Advanced Knots & Styles:**\n",
            "\n",
            "* **French Knot:**  A classic, elegant knot.\n",
            "* **Infinity Knot:** Tie the ends of a long, thin scarf together to create an infinity loop.\n",
            "* **Bohemian Knot:** Loose, layered knots with long, flowing ends.\n",
            "* **Plaited Style:** Braid the scarf (multiple thin scarves can be braided together).\n",
            "* **Wrapped Knot:** Wrap the scarf tightly around your neck several times before knotting.\n",
            "* **Overhand Knot:** A simple knot used as a base for more elaborate styles.\n",
            "* **Slip Knot:** Easy to adjust, great for creating a loop.\n",
            "\n",
            "**III. Incorporating Outerwear:**\n",
            "\n",
            "* **Scarf tucked into jacket:** Tuck the ends into a coat, jacket, or blazer.\n",
            "* **Scarf tied around jacket:** Tie the scarf around the collar or waist of a jacket.\n",
            "* **Scarf draped over coat:** Drape the scarf loosely over your coat or jacket.\n",
            "* **Scarf worn with a hood:**  Use a lightweight scarf under a hooded jacket for extra warmth.\n",
            "* **Scarf as a belt:** Tie a long scarf around your waist as a belt.\n",
            "\n",
            "**IV. Creative & Unexpected Ways:**\n",
            "\n",
            "* **Headband:** Tie a thin scarf around your head as a headband.\n",
            "* **Hair Accessory:** Use a scarf to tie up your hair in various styles.\n",
            "* **Bag Handle Wrap:** Wrap the scarf around the handle of your handbag.\n",
            "* **Wrist Wrap:** Tie a small scarf around your wrist as a bracelet.\n",
            "* **Belt:** Use a long scarf as a belt for a dress or skirt.\n",
            "* **Arm Warmers:** Use a long, thin scarf as arm warmers.\n",
            "* **As a decorative element:** Drape a scarf over a chair, use it to decorate a bag, etc.\n",
            "\n",
            "\n",
            "**To get to 200:**\n",
            "\n",
            "* **Combine techniques:** For example, combine a French knot with a draped style over a coat.\n",
            "* **Experiment with different scarf materials:** Silk, wool, cotton, cashmere, etc., will drape differently and suit different styles.\n",
            "* **Vary the scarf length and width:** Long, thin scarves offer different possibilities than short, wide scarves.\n",
            "* **Play with color and patterns:** Different colors and patterns will influence the overall look.\n",
            "* **Consider your outfit:** The style of your outfit will influence the best scarf style.\n",
            "\n",
            "\n",
            "By systematically combining these categories and variations, you can easily surpass 200 distinct ways to wear a scarf. Remember to have fun and experiment!  Pictures would be extremely helpful in truly conveying these 200 styles, but this framework should give you a substantial starting point.\n",
            "\n"
          ]
        }
      ]
    },
    {
      "cell_type": "code",
      "source": [
        "print(len(\"hello world\"))\n",
        "print(round(332.65554))"
      ],
      "metadata": {
        "colab": {
          "base_uri": "https://localhost:8080/"
        },
        "id": "v4AzbXs-lJUo",
        "outputId": "43307c57-35c2-45c9-e68f-83ded0766c6d"
      },
      "execution_count": 31,
      "outputs": [
        {
          "output_type": "stream",
          "name": "stdout",
          "text": [
            "11\n",
            "333\n"
          ]
        }
      ]
    },
    {
      "cell_type": "code",
      "source": [
        "from helper_functions import get_llm_response\n",
        "name = \"Tommy\"\n",
        "potatoes = 4.75\n",
        "prompt = f\"\"\"Write a couplet about my friend {name} who has about {round(potatoes)} potatoes\"\"\"\n",
        "response = get_llm_response(prompt)\n",
        "print(response)\n"
      ],
      "metadata": {
        "colab": {
          "base_uri": "https://localhost:8080/",
          "height": 69
        },
        "id": "y7bSmBaxltIh",
        "outputId": "44abad6a-70f2-45d4-b3c9-6562387ddd68"
      },
      "execution_count": 34,
      "outputs": [
        {
          "output_type": "stream",
          "name": "stdout",
          "text": [
            "Five spuds young Tommy does possess,\n",
            "A humble harvest, we confess.\n",
            "\n"
          ]
        }
      ]
    },
    {
      "cell_type": "code",
      "source": [
        "from helper_functions import print_llm_response\n",
        "print_llm_response(\"write an acrostic poem on seasons\")"
      ],
      "metadata": {
        "colab": {
          "base_uri": "https://localhost:8080/",
          "height": 538
        },
        "collapsed": true,
        "id": "SjTmAGPDmWdR",
        "outputId": "19cfd80a-85e9-4546-8300-5cf63d574647"
      },
      "execution_count": 35,
      "outputs": [
        {
          "output_type": "stream",
          "name": "stdout",
          "text": [
            "**S**unshine warms the gentle breeze,\n",
            "**P**lants awake, the birds all tease,\n",
            "**R**adiant days and longer light,\n",
            "**I**nsects buzz with pure delight,\n",
            "**N**ature's beauty, vibrant sight.\n",
            "\n",
            "\n",
            "**S**now falls soft, a winter's grace,\n",
            "**U**nderneath a frosty space,\n",
            "**M**ellow hues, a quiet scene,\n",
            "**M**ysteries in the winter's sheen,\n",
            "**E**legant frost, a frozen dream,\n",
            "**R**estful slumber, it would seem.\n",
            "\n",
            "\n",
            "**A**utumn leaves in shades of gold,\n",
            "**U**pon the ground, a story told,\n",
            "**T**rees stand tall, their colours bright,\n",
            "**U**nderneath the fading light,\n",
            "**M**ellow fruits, a sweet delight,\n",
            "**N**ature's farewell, a peaceful night.\n",
            "\n",
            "\n",
            "**S**pring arrives, a gentle hand,\n",
            "**U**pon the earth, a promised land,\n",
            "**M**elting snow, a clearer sky,\n",
            "**M**illions of flowers reaching high,\n",
            "**E**verything is born anew,\n",
            "**R**enewal starts, fresh and true.\n",
            "\n"
          ]
        }
      ]
    },
    {
      "cell_type": "markdown",
      "source": [
        "AI Python for Beginners: Automating Tasks with Python"
      ],
      "metadata": {
        "id": "6BqTK-MJtZ68"
      }
    },
    {
      "cell_type": "code",
      "source": [
        "from helper_functions import print_llm_response, get_llm_response\n",
        "name=[\"hassan\",\"tooba\",\"mehreen\",\"samreen\",\"danish\",\"hoorain\"]\n",
        "prompt = f\"\"\"\n",
        "Write a six line best wishes poem for {name}\"\"\"\n",
        "response = get_llm_response(prompt)\n",
        "#print(response)\n",
        "print_llm_response(prompt)"
      ],
      "metadata": {
        "colab": {
          "base_uri": "https://localhost:8080/",
          "height": 139
        },
        "id": "D4INFptWtcml",
        "outputId": "d9ed9a40-bb78-4623-e9fb-ff912df4ef20"
      },
      "execution_count": 44,
      "outputs": [
        {
          "output_type": "stream",
          "name": "stdout",
          "text": [
            "To Hassan, Tooba, Mehreen, Samreen,\n",
            "And Danish, Hoorain, a joyful scene!\n",
            "May fortune smile, your paths all bright,\n",
            "With happiness and pure delight.\n",
            "Success and joy in all you do,\n",
            "Best wishes sent to each of you!\n",
            "\n"
          ]
        }
      ]
    },
    {
      "cell_type": "code",
      "source": [
        "from helper_functions import print_llm_response, get_llm_response\n",
        "list_of_tasks = [\n",
        "    \"Compose a brief email to my boss explaining that I will be late for tomorrow's meeting.\",\n",
        "    \"Write a birthday poem for Otto, celebrating his 28th birthday.\",\n",
        "    \"Write a 300-word review of the movie 'The Arrival'.\"\n",
        "]\n",
        "for i in range(len(list_of_tasks)):\n",
        "   print (f\"Task {i}={list_of_tasks[i]} \\n\")\n",
        "   print_llm_response(list_of_tasks[i])\n",
        "#task = list_of_tasks[0]\n",
        "#print_llm_response(task)"
      ],
      "metadata": {
        "colab": {
          "base_uri": "https://localhost:8080/",
          "height": 783
        },
        "id": "dznZC8fnEbmQ",
        "outputId": "45e67268-55c3-4b4d-909b-fc160316fa9a"
      },
      "execution_count": 49,
      "outputs": [
        {
          "output_type": "stream",
          "name": "stdout",
          "text": [
            "Task 1 = 0=Compose a brief email to my boss explaining that I will be late for tomorrow's meeting. \n",
            "\n",
            "Subject: Late to Tomorrow's Meeting\n",
            "\n",
            "Hi [Boss's name],\n",
            "\n",
            "Just wanted to let you know that I will be late to tomorrow's meeting. I expect to arrive around [Time].  I apologize for any inconvenience.\n",
            "\n",
            "Thanks,\n",
            "[Your Name]\n",
            "\n",
            "Task 1 = 1=Write a birthday poem for Otto, celebrating his 28th birthday. \n",
            "\n",
            "Twenty-eight years, a vibrant hue,\n",
            "A life well-lived, and much to do.\n",
            "For Otto, dear, on this your day,\n",
            "We raise a glass and shout hooray!\n",
            "\n",
            "May laughter fill your coming year,\n",
            "And banish every doubt and fear.\n",
            "May friendships strong your spirit bind,\n",
            "And happiness you always find.\n",
            "\n",
            "May fortune smile, and dreams take flight,\n",
            "And every challenge turn out right.\n",
            "May health and love your path adorn,\n",
            "Until the break of a new born morn.\n",
            "\n",
            "So celebrate, dear Otto, free,\n",
            "This special day, for all to see.\n",
            "With joy and cheer, let spirits soar,\n",
            "And happy birthday, we implore!\n",
            "\n",
            "Task 1 = 2=Write a 300-word review of the movie 'The Arrival'. \n",
            "\n",
            "Denis Villeneuve's 'Arrival' isn't just a science fiction film; it's a profound meditation on time, communication, and the human experience.  The narrative unfolds with a deliberate pace, mirroring the painstaking process of deciphering the alien language and understanding the intentions of the heptapods, colossal, enigmatic creatures who have landed on Earth.  Amy Adams delivers a captivating performance as Dr. Louise Banks, a linguist recruited to unravel the mysteries of their complex, circular script.\n",
            "\n",
            "The film's strength lies not in explosive action sequences, but in the intricate interplay of language, memory, and perception.  The heptapod's logographic communication system, visualized with stunning visual effects, becomes a key to unlocking a non-linear perception of time, challenging the audience's understanding of causality.  This unconventional approach to storytelling is both intellectually stimulating and emotionally resonant.  The film subtly weaves together the personal and the universal, exploring Louise's complex relationship with her daughter in the context of a global crisis.\n",
            "\n",
            "While some might find the pacing slow, it serves to build suspense and allow the audience to fully immerse themselves in the complex themes.  The film's ambiguity, rather than being a weakness, is a strength, forcing viewers to grapple with the implications of the narrative long after the credits roll.  The emotional weight of Louise's choices, and the film's masterful exploration of free will versus determinism, leaves a lasting impact.\n",
            "\n",
            "Technically, 'Arrival' is impeccable.  The cinematography is breathtaking, capturing both the immensity of the alien vessels and the intimacy of Louise's personal struggles.  Jóhann Jóhannsson's haunting score perfectly complements the film's mood, adding layers of emotional depth.  'Arrival' is a cinematic masterpiece, a thought-provoking and beautifully crafted film that transcends the typical science fiction tropes to offer a truly unique and unforgettable experience.\n",
            "\n"
          ]
        }
      ]
    }
  ]
}