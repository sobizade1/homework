{
  "nbformat": 4,
  "nbformat_minor": 0,
  "metadata": {
    "colab": {
      "provenance": [],
      "authorship_tag": "ABX9TyOtkF9dXtbxfD4WGN//6ZF3",
      "include_colab_link": true
    },
    "kernelspec": {
      "name": "python3",
      "display_name": "Python 3"
    },
    "language_info": {
      "name": "python"
    }
  },
  "cells": [
    {
      "cell_type": "markdown",
      "metadata": {
        "id": "view-in-github",
        "colab_type": "text"
      },
      "source": [
        "<a href=\"https://colab.research.google.com/github/sobizade1/homework/blob/main/Copy_of_homework_project.ipynb\" target=\"_parent\"><img src=\"https://colab.research.google.com/assets/colab-badge.svg\" alt=\"Open In Colab\"/></a>"
      ]
    },
    {
      "cell_type": "code",
      "execution_count": null,
      "metadata": {
        "colab": {
          "base_uri": "https://localhost:8080/"
        },
        "id": "F4psDaVooQ_M",
        "outputId": "e75eef60-27b2-41dd-e46d-930d448289fe"
      },
      "outputs": [
        {
          "output_type": "stream",
          "name": "stdout",
          "text": [
            "sum is 13 \n",
            " subtraction is 9 \n",
            " multiplication is 22 \n",
            " exponent is 121 \n",
            " quotient is 5 \n",
            " modulus is 1\n"
          ]
        }
      ],
      "source": [
        "n=2\n",
        "m=11\n",
        "print(f\"sum is {n+m} \\n subtraction is {m-n} \\n multiplication is {m*n} \\n exponent is {m**n} \\n quotient is {m//n} \\n modulus is {m%n}\" )"
      ]
    },
    {
      "cell_type": "code",
      "source": [
        "#Write a Python program that takes two integer inputs from the user and calculates their sum.\n",
        "num1 =input(\"enter first number\")\n",
        "num1 :int = int(num1)\n",
        "num2 =input(\"enter second number\")\n",
        "num2 :int = int(num2)\n",
        "total :int = num1 + num2\n",
        "print (f\"sum of two numbers is  {total}\")"
      ],
      "metadata": {
        "colab": {
          "base_uri": "https://localhost:8080/"
        },
        "id": "UfjltipDr0Dq",
        "outputId": "69dc15bf-3265-4df2-be16-9c1da0f16596"
      },
      "execution_count": null,
      "outputs": [
        {
          "output_type": "stream",
          "name": "stdout",
          "text": [
            "enter first number12\n",
            "enter second number2\n",
            "sum of two numbers is  14\n"
          ]
        }
      ]
    },
    {
      "cell_type": "code",
      "source": [
        "#Write a program which asks the user what their favorite animal is, and then always responds with \"My favorite animal is also ___!\" (the blank should be filled in with the user-inputted animal, of course).\n",
        "fav_animal :str=input(\"Please enter your favourite animal\")\n",
        "print(f\"My favourite animal is also {fav_animal}\")"
      ],
      "metadata": {
        "colab": {
          "base_uri": "https://localhost:8080/"
        },
        "id": "mrCk9cnGvE5q",
        "outputId": "dd27097d-e95b-410b-dece-df309961d866"
      },
      "execution_count": null,
      "outputs": [
        {
          "output_type": "stream",
          "name": "stdout",
          "text": [
            "Please enter your favourite animalcat\n",
            "My favourite animal is also cat\n"
          ]
        }
      ]
    },
    {
      "cell_type": "code",
      "source": [],
      "metadata": {
        "id": "h4-wOsO2xF-y"
      },
      "execution_count": null,
      "outputs": []
    },
    {
      "cell_type": "code",
      "source": [
        "#Write a program which prompts the user for a temperature in Fahrenheit (this can be a number with decimal places!) and outputs the temperature converted to Celsius.\n",
        "temperature_fahrinheit = input(\"Enter temperature in Farinheit\")\n",
        "temperature_fahrinheit :float = float(temperature_fahrinheit)\n",
        "\n",
        "degrees_celsius :float = (temperature_fahrinheit - 32) * 5.0/9.0\n",
        "print (f\"Temperature {temperature_fahrinheit} F = {degrees_celsius} C\")"
      ],
      "metadata": {
        "id": "vn3XbWBFwDjr",
        "colab": {
          "base_uri": "https://localhost:8080/"
        },
        "outputId": "b7a1ecc6-85b0-43e4-9879-549d1e650cb2"
      },
      "execution_count": null,
      "outputs": [
        {
          "output_type": "stream",
          "name": "stdout",
          "text": [
            "Enter temperature in Farinheit76\n",
            "Temperature 76.0 F = 24.444444444444443 C\n"
          ]
        }
      ]
    },
    {
      "cell_type": "markdown",
      "source": [
        "Write a program to solve this age-related riddle!\n",
        "\n",
        "Anton, Beth, Chen, Drew, and Ethan are all friends. Their ages are as follows:\n",
        "\n",
        "Anton is 21 years old.\n",
        "\n",
        "Beth is 6 years older than Anton.\n",
        "\n",
        "Chen is 20 years older than Beth.\n",
        "\n",
        "Drew is as old as Chen's age plus Anton's age.\n",
        "\n",
        "Ethan is the same age as Chen."
      ],
      "metadata": {
        "id": "KJNE3UE4nHt3"
      }
    },
    {
      "cell_type": "code",
      "source": [
        "    anton : int = 21  # Anton's age is given as 21 years old\n",
        "    beth : int = 6 + anton  # Beth is 6 years older than Anton, so add 6 to Anton's age to get Beth's\n",
        "    chen : int = 20 + beth  # Chen is 20 years older than Beth, so add 20 to Beth's age to get Chen's\n",
        "    drew  : int= chen + anton  # Drew is as old as Chen's age plus Anton's age, so add them together\n",
        "    ethan : int = chen  # Ethan is the same age as Chen, so set Ethan's age equal to Chen's\n",
        "\n",
        "   # Print out all of the ages!\n",
        "    print(\"Anton is \" + str(anton))\n",
        "    print(\"Beth is \" + str(beth))\n",
        "    print(\"Chen is \" + str(chen))\n",
        "    print(\"Drew is \" + str(drew))\n",
        "    print(\"Ethan is \" + str(ethan))"
      ],
      "metadata": {
        "colab": {
          "base_uri": "https://localhost:8080/"
        },
        "id": "ttbWtQHhnGYk",
        "outputId": "5c84cb13-0452-4874-865b-e7ddd498a2a3"
      },
      "execution_count": null,
      "outputs": [
        {
          "output_type": "stream",
          "name": "stdout",
          "text": [
            "Anton is 21\n",
            "Beth is 27\n",
            "Chen is 47\n",
            "Drew is 68\n",
            "Ethan is 47\n"
          ]
        }
      ]
    },
    {
      "cell_type": "code",
      "source": [
        " # Get the 3 side lengths of the triangle\n",
        "side1: float = float(input(\"What is the length of side 1? \"))\n",
        "side2: float = float(input(\"What is the length of side 2? \"))\n",
        "side3: float = float(input(\"What is the length of side 3? \"))\n",
        "\n",
        "# Print out the perimeter (sum of the sides) of the triangle, make sure to cast it to a str when concatenating!\n",
        "print(f\"The perimeter of the triangle is {side1 + side2 + side3}\")"
      ],
      "metadata": {
        "colab": {
          "base_uri": "https://localhost:8080/"
        },
        "id": "CaPeP4mWnsrj",
        "outputId": "ba1bc13b-dab6-41e5-e002-8dfad8ccd17d"
      },
      "execution_count": null,
      "outputs": [
        {
          "output_type": "stream",
          "name": "stdout",
          "text": [
            "What is the length of side 1? 2\n",
            "What is the length of side 2? 2\n",
            "What is the length of side 3? 2\n",
            "The perimeter of the triangle is 6.0\n"
          ]
        }
      ]
    },
    {
      "cell_type": "code",
      "source": [],
      "metadata": {
        "id": "IST_Vfk8otIJ"
      },
      "execution_count": null,
      "outputs": []
    },
    {
      "cell_type": "markdown",
      "source": [
        "Ask the user for a number and print its square (the product of the number times itself)."
      ],
      "metadata": {
        "id": "IfD6WpEyosLY"
      }
    },
    {
      "cell_type": "code",
      "source": [
        "#Ask the user for a number and print its square (the product of the number times itself).\n",
        "number :int = int (input(\"please enter a number\"))\n",
        "print (f\"the square of {number} is {number*number}\")"
      ],
      "metadata": {
        "colab": {
          "base_uri": "https://localhost:8080/"
        },
        "id": "IcbrlOS1orip",
        "outputId": "3db7ebab-6399-4d21-f515-a6b657f2162a"
      },
      "execution_count": null,
      "outputs": [
        {
          "output_type": "stream",
          "name": "stdout",
          "text": [
            "please enter a number4\n",
            "the square of 4 is 16\n"
          ]
        }
      ]
    },
    {
      "cell_type": "markdown",
      "source": [
        "Simulate rolling two dice, three times.  Prints\n",
        "the results of each die roll."
      ],
      "metadata": {
        "id": "HAnNpnbErJyh"
      }
    },
    {
      "cell_type": "code",
      "source": [
        "#Simulate rolling two dice, three times.  Prints the results of each die roll.\n",
        "import random\n",
        "dice1 :int = random.randint(1, 6)\n",
        "dice2 :int = random.randint(1, 6)\n",
        "print(f\"first dice roll is {dice1} \\n\")\n",
        "print(f\"second dice roll is {dice2} \\n\")\n",
        "print(f\"sum of dice roll is {dice1 + dice2}\")"
      ],
      "metadata": {
        "colab": {
          "base_uri": "https://localhost:8080/"
        },
        "id": "XSwATusKrLLT",
        "outputId": "a703b13d-635f-4466-8a75-f64f0ffe35ce"
      },
      "execution_count": null,
      "outputs": [
        {
          "output_type": "stream",
          "name": "stdout",
          "text": [
            "first dice roll is 4 \n",
            "\n",
            "second dice roll is 5 \n",
            "\n",
            "sum of dice roll is 9\n"
          ]
        }
      ]
    },
    {
      "cell_type": "code",
      "source": [
        "#Write a program that continually reads in mass from the user and then outputs the equivalent energy using Einstein's mass-energy equivalence formula (E stands for energy, m stands for mass, and C is the speed of light:\n",
        "\n",
        "#E = m * c**2\n"
      ],
      "metadata": {
        "id": "T1ODQ05-tUbe"
      },
      "execution_count": null,
      "outputs": []
    },
    {
      "cell_type": "code",
      "source": [
        "my_set={12,12,35,3,37}\n",
        "print(my_set)\n",
        "my_set2=set([12,35,36,36,37,37])\n",
        "print(my_set2)\n",
        "print(type(my_set))\n",
        "print(type(my_set2))\n",
        "print(my_set==my_set2)"
      ],
      "metadata": {
        "colab": {
          "base_uri": "https://localhost:8080/"
        },
        "id": "GQht78H0Kerm",
        "outputId": "f8d10a00-0ce1-40e5-ed46-45f9607291f5"
      },
      "execution_count": 6,
      "outputs": [
        {
          "output_type": "stream",
          "name": "stdout",
          "text": [
            "{35, 3, 12, 37}\n",
            "{35, 12, 37, 36}\n",
            "<class 'set'>\n",
            "<class 'set'>\n",
            "False\n"
          ]
        }
      ]
    },
    {
      "cell_type": "code",
      "source": [
        "user={\"name\":\"sobia\",\n",
        "       \"age\":21 ,\n",
        "       \"gender\":\"female\",\n",
        "       \"roll number\":12345,\n",
        "       \"subjects\":{\"maths\",\"english\",\"urdu\",\"physics\",\"chemistry\",\"biology\"}\n",
        "}\n",
        "print(\"my details\",user[\"name\"],user[\"age\"],user[\"gender\"],user[\"roll number\"],user[\"subjects\"])"
      ],
      "metadata": {
        "colab": {
          "base_uri": "https://localhost:8080/"
        },
        "id": "30DfqXlDLdIX",
        "outputId": "a2d98b9e-7703-49ac-d7f7-9571810a771a"
      },
      "execution_count": 15,
      "outputs": [
        {
          "output_type": "stream",
          "name": "stdout",
          "text": [
            "my details sobia 21 female 12345 {'chemistry', 'physics', 'english', 'maths', 'urdu', 'biology'}\n"
          ]
        }
      ]
    }
  ]
}