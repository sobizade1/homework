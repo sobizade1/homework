{
  "nbformat": 4,
  "nbformat_minor": 0,
  "metadata": {
    "colab": {
      "provenance": [],
      "authorship_tag": "ABX9TyPRoiKOhdVTQHY08TidivcV",
      "include_colab_link": true
    },
    "kernelspec": {
      "name": "python3",
      "display_name": "Python 3"
    },
    "language_info": {
      "name": "python"
    }
  },
  "cells": [
    {
      "cell_type": "markdown",
      "metadata": {
        "id": "view-in-github",
        "colab_type": "text"
      },
      "source": [
        "<a href=\"https://colab.research.google.com/github/sobizade1/homework/blob/main/countdown.ipynb\" target=\"_parent\"><img src=\"https://colab.research.google.com/assets/colab-badge.svg\" alt=\"Open In Colab\"/></a>"
      ]
    },
    {
      "cell_type": "code",
      "execution_count": 1,
      "metadata": {
        "colab": {
          "base_uri": "https://localhost:8080/"
        },
        "id": "fcGi6xZZBkiC",
        "outputId": "c497ac99-4ad0-4992-e403-35d2596619a1"
      },
      "outputs": [
        {
          "output_type": "stream",
          "name": "stdout",
          "text": [
            "Enter the time in seconds: 30\n",
            "\n",
            "Countdown aborted.\n"
          ]
        }
      ],
      "source": [
        "import time\n",
        "\n",
        "def countdown(t):\n",
        "    \"\"\"\n",
        "    Counts down from t seconds, printing the remaining time every second.\n",
        "\n",
        "    Args:\n",
        "        t: The number of seconds to count down.\n",
        "    \"\"\"\n",
        "    try:\n",
        "        while t:\n",
        "            mins, secs = divmod(t, 60)\n",
        "            timer = '{:02d}:{:02d}'.format(mins, secs)\n",
        "            print(f\"Time remaining: {timer}\", end=\"\\r\")\n",
        "            time.sleep(1)\n",
        "            t -= 1\n",
        "\n",
        "        print('Fire in the hole!!')  # or whatever you want to print at the end\n",
        "    except KeyboardInterrupt:\n",
        "        print('\\nCountdown aborted.')\n",
        "\n",
        "\n",
        "if __name__ == \"__main__\":\n",
        "    seconds = int(input(\"Enter the time in seconds: \"))\n",
        "    countdown(seconds)"
      ]
    },
    {
      "cell_type": "code",
      "source": [
        "import time\n",
        "\n",
        "def countdown(t):\n",
        "    \"\"\"\n",
        "    Counts down from t seconds, printing the remaining time every second.  Handles invalid input.\n",
        "\n",
        "    Args:\n",
        "        t: The number of seconds to count down.\n",
        "    \"\"\"\n",
        "    try:\n",
        "        t = int(t)  #Explicitly convert to int, handle ValueError if input is not an integer.\n",
        "        if t < 0:\n",
        "          print(\"Time must be a non-negative number.\")\n",
        "          return\n",
        "\n",
        "        while t:\n",
        "            mins, secs = divmod(t, 60)\n",
        "            timer = '{:02d}:{:02d}'.format(mins, secs)\n",
        "            print(f\"Time remaining: {timer}\", end=\"\\r\")\n",
        "            time.sleep(1)\n",
        "            t -= 1\n",
        "\n",
        "        print('Fire in the hole!!')\n",
        "    except ValueError:\n",
        "        print(\"Invalid input. Please enter a number.\")\n",
        "    except KeyboardInterrupt:\n",
        "        print('\\nCountdown aborted.')\n",
        "\n",
        "\n",
        "if __name__ == \"__main__\":\n",
        "    seconds = input(\"Enter the time in seconds: \")\n",
        "    countdown(seconds)"
      ],
      "metadata": {
        "colab": {
          "base_uri": "https://localhost:8080/"
        },
        "id": "klKCy40sDziC",
        "outputId": "01c3eb58-930d-4fcc-900b-4ad85ec24cd1"
      },
      "execution_count": 2,
      "outputs": [
        {
          "output_type": "stream",
          "name": "stdout",
          "text": [
            "Enter the time in seconds: 10\n",
            "Fire in the hole!!\n"
          ]
        }
      ]
    }
  ]
}