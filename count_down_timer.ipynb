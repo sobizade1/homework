{
  "nbformat": 4,
  "nbformat_minor": 0,
  "metadata": {
    "colab": {
      "provenance": [],
      "authorship_tag": "ABX9TyOUPgkmiAaJkX4RzYy6lU8X",
      "include_colab_link": true
    },
    "kernelspec": {
      "name": "python3",
      "display_name": "Python 3"
    },
    "language_info": {
      "name": "python"
    }
  },
  "cells": [
    {
      "cell_type": "markdown",
      "metadata": {
        "id": "view-in-github",
        "colab_type": "text"
      },
      "source": [
        "<a href=\"https://colab.research.google.com/github/sobizade1/homework/blob/main/count_down_timer.ipynb\" target=\"_parent\"><img src=\"https://colab.research.google.com/assets/colab-badge.svg\" alt=\"Open In Colab\"/></a>"
      ]
    },
    {
      "cell_type": "code",
      "execution_count": 8,
      "metadata": {
        "id": "2dSmiNqnnaaZ",
        "colab": {
          "base_uri": "https://localhost:8080/"
        },
        "outputId": "4b11088b-1af2-483d-bbec-a5d46ae6caeb"
      },
      "outputs": [
        {
          "output_type": "stream",
          "name": "stdout",
          "text": [
            "Enter the time in seconds: 30\n",
            "00:30 00:29 00:28 00:27 00:26 00:25 00:24 00:23 00:22 00:21 00:20 00:19 00:18 00:17 00:16 00:15 00:14 00:13 00:12 00:11 00:10 00:09 00:08 00:07 00:06 00:05 00:04 00:03 00:02 00:01 Time's up!\n"
          ]
        }
      ],
      "source": [
        "import time\n",
        "\n",
        "def countdown(t):\n",
        "    \"\"\"\n",
        "    Countdown Timer\n",
        "\n",
        "    Args:\n",
        "        t: The time in seconds to countdown from.\n",
        "    \"\"\"\n",
        "    while t:\n",
        "        mins, secs = divmod(t, 60)\n",
        "        timer = '{:02d}:{:02d}'.format(mins, secs)\n",
        "        print(timer, end=\" \")\n",
        "       # time.sleep(1)\n",
        "        t -= 1\n",
        "\n",
        "    print(\"Time's up!\")\n",
        "\n",
        "# Set the countdown time in seconds\n",
        "time_in_sec=int(input(\"Enter the time in seconds: \"))\n",
        "countdown(time_in_sec)\n",
        "\n"
      ]
    }
  ]
}