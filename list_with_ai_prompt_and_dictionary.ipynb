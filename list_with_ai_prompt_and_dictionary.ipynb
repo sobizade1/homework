{
  "nbformat": 4,
  "nbformat_minor": 0,
  "metadata": {
    "colab": {
      "provenance": [],
      "authorship_tag": "ABX9TyO9RhqyBIKt3iIA/TZq0WUL",
      "include_colab_link": true
    },
    "kernelspec": {
      "name": "python3",
      "display_name": "Python 3"
    },
    "language_info": {
      "name": "python"
    }
  },
  "cells": [
    {
      "cell_type": "markdown",
      "metadata": {
        "id": "view-in-github",
        "colab_type": "text"
      },
      "source": [
        "<a href=\"https://colab.research.google.com/github/sobizade1/homework/blob/main/list_with_ai_prompt_and_dictionary.ipynb\" target=\"_parent\"><img src=\"https://colab.research.google.com/assets/colab-badge.svg\" alt=\"Open In Colab\"/></a>"
      ]
    },
    {
      "cell_type": "code",
      "execution_count": 5,
      "metadata": {
        "colab": {
          "base_uri": "https://localhost:8080/",
          "height": 1000
        },
        "id": "4nBCTYHm8QGs",
        "outputId": "a9c172b6-4cd0-409b-9fd2-281dfdee2c2b"
      },
      "outputs": [
        {
          "output_type": "stream",
          "name": "stdout",
          "text": [
            "**Option 1 (Classic & Elegant):**\n",
            "\n",
            "> Indulge in the timeless perfection of our Vanilla Bean ice cream.  Made with the finest Madagascar vanilla beans, each spoonful unveils a symphony of rich, creamy flavor, subtly sweet and exquisitely smooth. A classic for a reason.\n",
            "\n",
            "**Option 2 (Modern & Playful):**\n",
            "\n",
            ">  Vanilla?  Think again. This isn't your grandma's vanilla.  Our handcrafted Vanilla Bean ice cream explodes with pure, unadulterated vanilla flavor, boasting a luxurious texture that will redefine your expectations. Prepare for vanilla bliss.\n",
            "\n",
            "\n",
            "**Option 3 (Focus on Ingredients):**\n",
            "\n",
            "> Experience the pure essence of vanilla in every bite.  Our Vanilla Bean ice cream is crafted with sustainably sourced Madagascar vanilla beans, resulting in a deeply aromatic and intensely flavorful ice cream that's as natural as it is delicious.\n",
            "\n",
            "\n",
            "**Option 4 (Short & Sweet):**\n",
            "\n",
            "> Simply Vanilla. Simply Perfect.  Experience the ultimate in creamy, dreamy vanilla ice cream.\n",
            "\n",
            "\n",
            "**Option 5 (Sophisticated & Evocative):**\n",
            "\n",
            "> A whisper of warmth, a burst of pure vanilla.  Our handcrafted Vanilla Bean ice cream transports you to a sun-drenched island, where the scent of vanilla hangs heavy in the air.  A moment of pure indulgence awaits.\n",
            "\n",
            "**Option 1 (Classic & Elegant):**\n",
            "\n",
            "> Indulge in the timeless allure of our Chocolate ice cream.  Rich, decadent, and intensely chocolatey, each spoonful is a journey to pure bliss. Made with the finest cocoa beans, this is chocolate redefined.\n",
            "\n",
            "**Option 2 (Playful & Approachable):**\n",
            "\n",
            "> Warning: May cause uncontrollable chocolate cravings! Our Chocolate ice cream is ridiculously smooth, intensely chocolatey, and utterly irresistible.  Prepare for a chocolate overload in the best possible way.\n",
            "\n",
            "**Option 3 (Sophisticated & Descriptive):**\n",
            "\n",
            "> Experience the depth and complexity of our artisanal Chocolate ice cream.  Notes of dark chocolate intertwine with subtle hints of sweetness, creating a symphony of flavor that will tantalize your taste buds.  A true masterpiece for the discerning palate.\n",
            "\n",
            "**Option 4 (Short & Sweet):**\n",
            "\n",
            "> The ultimate chocolate experience.  Simply irresistible.\n",
            "\n",
            "\n",
            "**Option 5 (Focusing on a specific type of chocolate):**\n",
            "\n",
            "> Surrender to the dark, rich embrace of our Midnight Chocolate ice cream.  Made with intensely dark cocoa, this decadent delight offers a sophisticated bitterness balanced by a hint of sweetness – a truly unforgettable experience.\n",
            "\n",
            "**Option 1 (Focus on freshness):**\n",
            "\n",
            "> **Escape to Strawberry Bliss.**  Imagine sun-ripened strawberries, bursting with juicy sweetness, transformed into the creamiest, most irresistible ice cream.  Our Strawberry is crafted with real fruit, delivering a taste of summer that's pure, simple, and utterly unforgettable.\n",
            "\n",
            "\n",
            "**Option 2 (Focus on indulgence):**\n",
            "\n",
            "> **Indulge in Strawberry Decadence.**  Dive headfirst into a world of pure strawberry pleasure.  Rich, creamy, and intensely flavorful, our Strawberry ice cream is a luxurious treat that will transport you to strawberry fields forever.  Spoonful after spoonful, you'll discover a symphony of sweetness.\n",
            "\n",
            "\n",
            "**Option 3 (Focus on artisanal quality):**\n",
            "\n",
            "> **Handcrafted Strawberry Perfection.**  Made with the finest hand-picked strawberries and the creamiest dairy, our Strawberry ice cream is a testament to quality and artistry.  Each bite is a celebration of natural flavor, delivering an experience that’s both refined and deeply satisfying.\n",
            "\n",
            "\n",
            "**Option 4 (Short & Sweet):**\n",
            "\n",
            "> **Pure Strawberry Perfection.  Simply irresistible.**\n",
            "\n",
            "\n",
            "**Option 5 (Playful):**\n",
            "\n",
            "> **Warning: May cause uncontrollable strawberry cravings.**  Our Strawberry ice cream is so good, it's dangerous.  Prepare for a flavor explosion that will leave you wanting more!\n",
            "\n",
            "**Option 1 (Classic & Elegant):**\n",
            "\n",
            "> Indulge in the timeless elegance of our Mint Chocolate Chip.  Cool, refreshing mint ice cream swirled with decadent dark chocolate chips – a symphony of flavor that's both sophisticated and utterly delightful.  A perfect treat for any occasion.\n",
            "\n",
            "\n",
            "**Option 2 (Playful & Energetic):**\n",
            "\n",
            "> Get ready for a minty madness! Our Mint Chocolate Chip explodes with refreshing mint flavor and bursts of rich, dark chocolate. It's the ultimate cool-down treat that'll leave you feeling refreshed and happy.  Prepare for a flavor adventure!\n",
            "\n",
            "\n",
            "**Option 3 (Descriptive & Sensory):**\n",
            "\n",
            "> Imagine: the invigorating coolness of fresh mint, the satisfying snap of dark chocolate chips, all enveloped in a creamy, dreamy ice cream. That's our Mint Chocolate Chip. Every spoonful is a journey to a blissful, minty paradise.\n",
            "\n",
            "\n",
            "**Option 4 (Short & Sweet):**\n",
            "\n",
            "> The perfect blend of cool mint and rich chocolate.  Our Mint Chocolate Chip: Simply irresistible.\n",
            "\n",
            "\n",
            "**Option 5 (Focusing on premium ingredients):**\n",
            "\n",
            "> Experience the difference of premium ingredients. Our Mint Chocolate Chip is crafted with real peppermint extract and the finest dark chocolate chips, creating a luxuriously smooth and intensely flavorful ice cream that's truly unforgettable.\n",
            "\n"
          ]
        }
      ],
      "source": [
        "from helper_functions import print_llm_response\n",
        "#ice cream flavor example\n",
        "ice_cream_flavors = [\n",
        "    \"Vanilla\",\n",
        "    \"Chocolate\",\n",
        "    \"Strawberry\",\n",
        "    \"Mint Chocolate Chip\"\n",
        "]\n",
        "for flavor in ice_cream_flavors:\n",
        "    prompt = f\"\"\"For the ice cream flavor listed below,\n",
        "    provide a captivating description that could be used for promotional purposes.\n",
        "\n",
        "    Flavor: {flavor}\n",
        "\n",
        "    \"\"\"\n",
        "    print_llm_response(prompt)"
      ]
    },
    {
      "cell_type": "markdown",
      "source": [
        "WORDS WITHOUT TYPING MISTAKES"
      ],
      "metadata": {
        "id": "RbbISY939sv9"
      }
    },
    {
      "cell_type": "code",
      "source": [
        "from helper_functions import get_llm_response\n",
        "# Write code to get a list with\n",
        "# words without typos\n",
        "\n",
        "words_with_typos = [\"Aple\", \"Wether\", \"Newpaper\"]\n",
        "words_without_typos = []\n",
        "\n",
        "for word in words_with_typos:\n",
        "    prompt = f\"\"\"Fix the spelling mistake in the following word: {word}\n",
        "    Provide only the word.\n",
        "    \"\"\"\n",
        "    correct_word = get_llm_response(prompt)\n",
        "    ### WRITE CODE HERE  ###\n",
        "    #Hint: Append the correct_word to the words_without_typos list\n",
        "    ### --------------- ###\n",
        "    words_without_typos.append(correct_word)\n",
        "print(words_without_typos)"
      ],
      "metadata": {
        "colab": {
          "base_uri": "https://localhost:8080/",
          "height": 34
        },
        "id": "DbQPQJvm9sZN",
        "outputId": "a0593f4e-7f7f-4ff0-c0cc-c7a5d765e372"
      },
      "execution_count": 7,
      "outputs": [
        {
          "output_type": "stream",
          "name": "stdout",
          "text": [
            "['Apple\\n', 'Whether\\n', 'Newspaper\\n']\n"
          ]
        }
      ]
    },
    {
      "cell_type": "markdown",
      "source": [
        "dictionaries with ai"
      ],
      "metadata": {
        "id": "RJP7BVeY_BUm"
      }
    },
    {
      "cell_type": "code",
      "source": [
        "from helper_functions import print_llm_response, get_llm_response\n",
        "#ice_cream_flavors = [\n",
        " #   \"Vanilla: Classic and creamy with a rich, smooth flavor from real vanilla beans.\",\n",
        "  #  \"Chocolate: Deep and indulgent, made with rich cocoa for a satisfying chocolate experience.\",\n",
        "   # \"Strawberry: Sweet and fruity, bursting with the fresh taste of ripe strawberries.\",\n",
        "    #\"Mint Chocolate Chip: Refreshing mint ice cream studded with decadent chocolate chips.\",\n",
        "    #\"#Cookie Dough: Vanilla ice cream loaded with chunks of chocolate chip cookie dough.\",\n",
        "    #\"S#alted Caramel: Sweet and salty with a smooth caramel swirl and a hint of sea salt.\",\n",
        "    #\"Pistachio: Nutty and creamy, featuring the distinct taste of real pistachios.\",\n",
        "    #\"Cookies and Cream: Vanilla ice cream packed with chunks of chocolate sandwich cookies.\",\n",
        "    #\"Mango: Tropical and tangy, made with juicy mangoes for a refreshing treat.\",\n",
        "    #\"Rocky Road: Chocolate ice cream mixed with marshmallows, nuts, and chocolate chunks.\"]\n",
        "ice_cream_flavors = {\n",
        "    \"Mint Chocolate Chip\": \"Refreshing mint ice cream studded with decadent chocolate chips.\",\n",
        "    \"Cookie Dough\": \"Vanilla ice cream loaded with chunks of chocolate chip cookie dough.\",\n",
        "    \"Salted Caramel\": \"Sweet and salty with a smooth caramel swirl and a hint of sea salt.\"\n",
        "}\n",
        "print(ice_cream_flavors.keys())\n",
        "\n",
        "for flavor in ice_cream_flavors.keys():\n",
        "    prompt = f\"\"\"For the ice cream flavor listed below,\n",
        "    provide a captivating description that could be used for promotional purposes.\n",
        "\n",
        "    Flavor: {flavor}\n",
        "\n",
        "    \"\"\"\n",
        "    #print_llm_response(prompt)\n",
        "ice_cream_flavors[\"Rocky Road\"] = \"Chocolate ice cream mixd witother ingredients.\"\n",
        "print(ice_cream_flavors)"
      ],
      "metadata": {
        "colab": {
          "base_uri": "https://localhost:8080/"
        },
        "collapsed": true,
        "id": "vJjYCprP_EAl",
        "outputId": "8c466233-42f7-4210-cf85-ccba9f87ca9c"
      },
      "execution_count": 11,
      "outputs": [
        {
          "output_type": "stream",
          "name": "stdout",
          "text": [
            "dict_keys(['Mint Chocolate Chip', 'Cookie Dough', 'Salted Caramel'])\n",
            "{'Mint Chocolate Chip': 'Refreshing mint ice cream studded with decadent chocolate chips.', 'Cookie Dough': 'Vanilla ice cream loaded with chunks of chocolate chip cookie dough.', 'Salted Caramel': 'Sweet and salty with a smooth caramel swirl and a hint of sea salt.', 'Rocky Road': 'Chocolate ice cream mixd witother ingredients.'}\n"
          ]
        }
      ]
    },
    {
      "cell_type": "code",
      "source": [
        "isabel_facts = {\n",
        "    \"age\": 28,\n",
        "    \"Favorite color\": \"red\"\n",
        "}\n",
        "print(isabel_facts)\n",
        "isabel_facts[\"Cat names\"] = [\"Charlie\", \"Smokey\", \"Tabitha\"]\n",
        "print(isabel_facts)\n",
        "isabel_facts[\"Favorite Snacks\"] = [\"pineapple cake\",\"candy\"]\n",
        "print(isabel_facts)\n",
        "print(isabel_facts.keys())\n"
      ],
      "metadata": {
        "colab": {
          "base_uri": "https://localhost:8080/"
        },
        "id": "g6aXoMrBC6Zf",
        "outputId": "86c8effb-93e1-499f-a910-0ecb137418c7"
      },
      "execution_count": 14,
      "outputs": [
        {
          "output_type": "stream",
          "name": "stdout",
          "text": [
            "{'age': 28, 'Favorite color': 'red'}\n",
            "{'age': 28, 'Favorite color': 'red', 'Cat names': ['Charlie', 'Smokey', 'Tabitha']}\n",
            "{'age': 28, 'Favorite color': 'red', 'Cat names': ['Charlie', 'Smokey', 'Tabitha'], 'Favorite Snacks': ['pineapple cake', 'candy']}\n",
            "dict_keys(['age', 'Favorite color', 'Cat names', 'Favorite Snacks'])\n"
          ]
        }
      ]
    },
    {
      "cell_type": "code",
      "source": [
        "from helper_functions import print_llm_response, get_llm_response\n",
        "#task example, large list not ordered by priority. Want to prioritize\n",
        "high_priority_tasks = [\n",
        "    \"hp 1 Compose a brief email to my boss explaining that I will be late for tomorrow's meeting.\",\n",
        "    \"hp 2 Create an outline for a presentation on the benefits of remote work.\"\n",
        "]\n",
        "\n",
        "medium_priority_tasks = [\n",
        "    \"m1 Write a birthday poem for Otto, celebrating his 28th birthday.\",\n",
        "    \"m2 Draft a thank-you note for my neighbor Dapinder who helped water my plants while I was on vacation.\"\n",
        "]\n",
        "\n",
        "low_priority_tasks = [\n",
        "    \"l1 Write a 300-word review of the movie 'The Arrival'.\"\n",
        "]\n",
        "#create dictionary with all tasks\n",
        "#dictionaries can contain lists!\n",
        "\n",
        "prioritized_tasks = {\n",
        "    \"high_priority\": high_priority_tasks,\n",
        "    \"medium_priority\": medium_priority_tasks,\n",
        "    \"low_priority\": low_priority_tasks\n",
        "}\n",
        "print(prioritized_tasks)\n",
        "#print(prioritized_tasks[\"high_priority\"])\n",
        "#complete high priority tasks\n",
        "key=[]\n",
        "#key=prioritized_tasks.keys()\n",
        "from helper_functions import print_llm_response, get_llm_response\n",
        "#task example, large list not ordered by priority. Want to prioritize\n",
        "#create dictionary with all tasks\n",
        "#dictionaries can contain lists!\n",
        "#print(prioritized_tasks[\"high_priority\"])\n",
        "#complete high priority tasks\n",
        "key=list(prioritized_tasks.values()) # Convert dict_value to a list\n",
        "print(key)\n",
        "i=0\n",
        "for task in key:\n",
        "  prompt=f\"{task}\"\n",
        "  print(get_llm_response(prompt))\n",
        ""
      ],
      "metadata": {
        "colab": {
          "base_uri": "https://localhost:8080/",
          "height": 1000
        },
        "id": "KuwcXJh__Lk2",
        "outputId": "880a319c-f3d3-4dee-fa75-5c471eb8152c"
      },
      "execution_count": 43,
      "outputs": [
        {
          "output_type": "stream",
          "name": "stdout",
          "text": [
            "{'high_priority': [\"hp 1 Compose a brief email to my boss explaining that I will be late for tomorrow's meeting.\", 'hp 2 Create an outline for a presentation on the benefits of remote work.'], 'medium_priority': ['m1 Write a birthday poem for Otto, celebrating his 28th birthday.', 'm2 Draft a thank-you note for my neighbor Dapinder who helped water my plants while I was on vacation.'], 'low_priority': [\"l1 Write a 300-word review of the movie 'The Arrival'.\"]}\n",
            "[[\"hp 1 Compose a brief email to my boss explaining that I will be late for tomorrow's meeting.\", 'hp 2 Create an outline for a presentation on the benefits of remote work.'], ['m1 Write a birthday poem for Otto, celebrating his 28th birthday.', 'm2 Draft a thank-you note for my neighbor Dapinder who helped water my plants while I was on vacation.'], [\"l1 Write a 300-word review of the movie 'The Arrival'.\"]]\n",
            "**hp 1 Email to Boss:**\n",
            "\n",
            "Subject: Late to Tomorrow's Meeting\n",
            "\n",
            "Hi [Boss's name],\n",
            "\n",
            "This email is to let you know that I will be late to tomorrow's meeting at [Time]. I expect to arrive around [Time].  I apologize for any inconvenience this may cause.\n",
            "\n",
            "Thanks,\n",
            "\n",
            "[Your Name]\n",
            "\n",
            "\n",
            "**hp 2 Presentation Outline: Benefits of Remote Work**\n",
            "\n",
            "**I. Introduction (2 minutes)**\n",
            "\n",
            "*   Hook: Start with a compelling statistic about remote work growth or a relatable anecdote.\n",
            "*   Briefly define remote work and its various forms (fully remote, hybrid, etc.).\n",
            "*   Thesis statement:  Remote work offers significant benefits for both employees and employers, leading to increased productivity, improved employee well-being, and reduced operational costs.\n",
            "\n",
            "**II. Benefits for Employees (5 minutes)**\n",
            "\n",
            "*   **Improved Work-Life Balance:**\n",
            "    *   Flexibility in scheduling and managing personal responsibilities.\n",
            "    *   Reduced commute time and stress.\n",
            "    *   Increased autonomy and control over work environment.\n",
            "*   **Enhanced Productivity and Focus:**\n",
            "    *   Fewer distractions and interruptions.\n",
            "    *   Ability to work during peak productivity hours.\n",
            "    *   Increased job satisfaction and engagement.\n",
            "*   **Improved Physical and Mental Health:**\n",
            "    *   Reduced stress levels.\n",
            "    *   More opportunities for exercise and healthy habits.\n",
            "    *   Better work-life integration.\n",
            "\n",
            "**III. Benefits for Employers (5 minutes)**\n",
            "\n",
            "*   **Cost Savings:**\n",
            "    *   Reduced office space expenses.\n",
            "    *   Lower utility costs.\n",
            "    *   Potential savings on office supplies and equipment.\n",
            "*   **Increased Productivity and Efficiency:**\n",
            "    *   Access to a wider talent pool.\n",
            "    *   Improved employee retention rates.\n",
            "    *   Increased employee engagement and morale.\n",
            "*   **Enhanced Flexibility and Scalability:**\n",
            "    *   Ability to quickly adapt to changing business needs.\n",
            "    *   Easier to scale operations up or down.\n",
            "\n",
            "**IV. Addressing Potential Challenges (3 minutes)**\n",
            "\n",
            "*   Communication barriers and solutions (e.g., regular check-ins, collaborative tools).\n",
            "*   Maintaining team cohesion and collaboration (e.g., virtual team-building activities).\n",
            "*   Ensuring employee accountability and productivity (e.g., clear goals and expectations).\n",
            "\n",
            "**V. Conclusion (2 minutes)**\n",
            "\n",
            "*   Reiterate the key benefits of remote work for both employees and employers.\n",
            "*   Call to action: Encourage the adoption of remote work practices within the organization.\n",
            "*   Q&A session.\n",
            "\n",
            "\n",
            "**VI. Visual Aids:**\n",
            "\n",
            "*   Graphs and charts illustrating data on productivity, cost savings, and employee satisfaction.\n",
            "*   Images showcasing the positive aspects of remote work (e.g., employees working from home, collaborative online tools).\n",
            "\n",
            "\n",
            "This outline is a suggestion and can be adapted to fit the specific needs and context of your presentation.  Remember to cite sources for any statistics or data used.\n",
            "\n",
            "**m1: Birthday Poem for Otto**\n",
            "\n",
            "Twenty-eight years have spun their thread,\n",
            "A tapestry of life you've spread.\n",
            "With laughter bright and spirit bold,\n",
            "A story waiting to unfold.\n",
            "\n",
            "Through sunshine days and stormy nights,\n",
            "You've chased your dreams with all your might.\n",
            "May this new year bring joy and cheer,\n",
            "And banish every doubt and fear.\n",
            "\n",
            "So raise a glass, let music play,\n",
            "Happy birthday, Otto, hip, hip, hooray!\n",
            "\n",
            "\n",
            "**m2: Thank-You Note for Dapinder**\n",
            "\n",
            "Dear Dapinder,\n",
            "\n",
            "I wanted to express my sincere gratitude for your kindness in watering my plants while I was away on vacation.  Coming home to healthy, happy plants was such a relief, and it meant the world to me knowing they were in such caring hands.\n",
            "\n",
            "Thank you again for your thoughtfulness and generosity.  I really appreciate your help!\n",
            "\n",
            "Warmly,\n",
            "\n",
            "[Your Name]\n",
            "\n",
            "Denis Villeneuve's \"Arrival\" isn't just a science fiction film; it's a profound meditation on time, communication, and the human experience.  Far from a typical alien invasion narrative, it centers on Dr. Louise Banks (Amy Adams), a linguist recruited by the military to decipher the language of heptapod aliens who have arrived in mysterious, imposing spacecraft.  The film masterfully builds suspense not through explosive action, but through a simmering sense of the unknown and the inherent ambiguity of extraterrestrial contact.\n",
            "\n",
            "Villeneuve's direction is visually stunning. The design of the aliens, their ships, and even the natural world surrounding the contact zone are breathtakingly alien yet somehow strangely beautiful.  The cinematography uses slow, deliberate pacing, allowing the audience to absorb the enormity of the situation and the weight of the characters' decisions.  The film's score, composed by Jóhann Jóhannsson, further enhances the atmosphere, weaving a tapestry of sounds both unsettling and strangely comforting.\n",
            "\n",
            "The film's strength lies not only in its visuals but also in its intricate and thought-provoking narrative.  The non-linear storytelling, initially confusing, ultimately reveals itself as a brilliant portrayal of Louise's grappling with the complexities of time and the nature of her relationship with her daughter. The heptapod language itself, a visual language that communicates through complex, circular symbols, is a key element, mirroring the cyclical nature of time and the interconnectedness of events.  The film challenges our preconceived notions of linearity and causality, subtly suggesting that free will and determinism aren't necessarily mutually exclusive.\n",
            "\n",
            "While some may find the pacing slow, it’s this deliberate pacing that allows for a deeper engagement with the themes. \"Arrival\" isn't a film for those seeking explosions and shootouts; it's a film for those seeking intellectual stimulation and emotional resonance. It's a beautifully crafted, intellectually challenging, and profoundly moving cinematic experience that lingers long after the credits roll.\n",
            "\n"
          ]
        }
      ]
    }
  ]
}