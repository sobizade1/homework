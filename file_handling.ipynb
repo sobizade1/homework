{
  "nbformat": 4,
  "nbformat_minor": 0,
  "metadata": {
    "colab": {
      "provenance": [],
      "authorship_tag": "ABX9TyOlh9TctUx8MOCzeMhsAnlA",
      "include_colab_link": true
    },
    "kernelspec": {
      "name": "python3",
      "display_name": "Python 3"
    },
    "language_info": {
      "name": "python"
    }
  },
  "cells": [
    {
      "cell_type": "markdown",
      "metadata": {
        "id": "view-in-github",
        "colab_type": "text"
      },
      "source": [
        "<a href=\"https://colab.research.google.com/github/sobizade1/homework/blob/main/file_handling.ipynb\" target=\"_parent\"><img src=\"https://colab.research.google.com/assets/colab-badge.svg\" alt=\"Open In Colab\"/></a>"
      ]
    },
    {
      "cell_type": "markdown",
      "source": [
        "Why file handling?"
      ],
      "metadata": {
        "id": "zbhGlfc9zyuI"
      }
    },
    {
      "cell_type": "code",
      "execution_count": 7,
      "metadata": {
        "colab": {
          "base_uri": "https://localhost:8080/"
        },
        "id": "xb5WtbnCzw9R",
        "outputId": "8317f65d-0a89-43d9-e0f1-eee78e763b1a"
      },
      "outputs": [
        {
          "output_type": "stream",
          "name": "stdout",
          "text": [
            "line 1 = this is my first file\n"
          ]
        }
      ],
      "source": [
        "file = open(\"new_file.txt\",\"w+\")\n",
        "file.write(\"this is my first file\")\n",
        "file.seek(0)\n",
        "line = file.read()\n",
        "print(\"line 1 =\",line)\n",
        "file.close()"
      ]
    },
    {
      "cell_type": "code",
      "source": [
        "file = open(\"second_file.txt\",\"w+\")\n",
        "name = input(\"enter your name\")\n",
        "age = input(\"enter your age\")\n",
        "file.write(name)\n",
        "file.write(age)\n",
        "file.seek(0)\n",
        "line = file.read()\n",
        "file.close()\n",
        "print(\"line 1 =\",line)"
      ],
      "metadata": {
        "colab": {
          "base_uri": "https://localhost:8080/"
        },
        "id": "a7PRK8PJ3vzo",
        "outputId": "9c510c1e-dd51-42a3-f66d-f3794fb417cd"
      },
      "execution_count": 10,
      "outputs": [
        {
          "output_type": "stream",
          "name": "stdout",
          "text": [
            "enter your namesobia \n",
            "enter your age30\n",
            "line 1 = sobia 30\n"
          ]
        }
      ]
    },
    {
      "cell_type": "markdown",
      "source": [
        "no need to close file. it will automatically close using with method"
      ],
      "metadata": {
        "id": "LTcu1Unz6gtw"
      }
    },
    {
      "cell_type": "code",
      "source": [
        "with open (\"new_file.txt\",\"w+\") as file:\n",
        "    file.write(\"this is my first file\")\n",
        "    file.seek(0)\n",
        "    #line = file.read()\n",
        "    #print(\"text in file is =\",file.read())\n",
        "    print(file.read())"
      ],
      "metadata": {
        "colab": {
          "base_uri": "https://localhost:8080/"
        },
        "id": "LA8KwxWw5YZQ",
        "outputId": "785d385f-88cc-4c19-c17e-a9d2adc694a1"
      },
      "execution_count": 14,
      "outputs": [
        {
          "output_type": "stream",
          "name": "stdout",
          "text": [
            "this is my first file\n"
          ]
        }
      ]
    },
    {
      "cell_type": "markdown",
      "source": [
        "append"
      ],
      "metadata": {
        "id": "ccCPsEKg7Fau"
      }
    },
    {
      "cell_type": "code",
      "source": [
        "with open (\"new_file.txt\",\"a+\") as file:\n",
        "    file.write(\"\\n hello world\")\n",
        "    file.seek(0)\n",
        "    #line = file.read()\n",
        "    #print(\"text in file is =\",file.read())\n",
        "    print(file.read())"
      ],
      "metadata": {
        "colab": {
          "base_uri": "https://localhost:8080/"
        },
        "id": "50oZsA5w7E5n",
        "outputId": "8b818121-f0e7-41bd-e53e-da6abdcd409a"
      },
      "execution_count": 19,
      "outputs": [
        {
          "output_type": "stream",
          "name": "stdout",
          "text": [
            "this is my first filehello world\n",
            " hello world\n",
            " hello world\n",
            " hello world\n",
            " hello world\n"
          ]
        }
      ]
    },
    {
      "cell_type": "code",
      "source": [],
      "metadata": {
        "id": "HJMYAElp6UcP"
      },
      "execution_count": null,
      "outputs": []
    },
    {
      "cell_type": "code",
      "source": [
        "from google.colab import files\n",
        "files = files.upload()\n",
        "print (files)"
      ],
      "metadata": {
        "colab": {
          "base_uri": "https://localhost:8080/",
          "height": 110
        },
        "id": "SOKUKsEx92mf",
        "outputId": "d32ebb75-bc50-4d94-861a-c7e13e9f614b"
      },
      "execution_count": 20,
      "outputs": [
        {
          "output_type": "display_data",
          "data": {
            "text/plain": [
              "<IPython.core.display.HTML object>"
            ],
            "text/html": [
              "\n",
              "     <input type=\"file\" id=\"files-468ec437-f397-4b3f-ba83-5c912063a071\" name=\"files[]\" multiple disabled\n",
              "        style=\"border:none\" />\n",
              "     <output id=\"result-468ec437-f397-4b3f-ba83-5c912063a071\">\n",
              "      Upload widget is only available when the cell has been executed in the\n",
              "      current browser session. Please rerun this cell to enable.\n",
              "      </output>\n",
              "      <script>// Copyright 2017 Google LLC\n",
              "//\n",
              "// Licensed under the Apache License, Version 2.0 (the \"License\");\n",
              "// you may not use this file except in compliance with the License.\n",
              "// You may obtain a copy of the License at\n",
              "//\n",
              "//      http://www.apache.org/licenses/LICENSE-2.0\n",
              "//\n",
              "// Unless required by applicable law or agreed to in writing, software\n",
              "// distributed under the License is distributed on an \"AS IS\" BASIS,\n",
              "// WITHOUT WARRANTIES OR CONDITIONS OF ANY KIND, either express or implied.\n",
              "// See the License for the specific language governing permissions and\n",
              "// limitations under the License.\n",
              "\n",
              "/**\n",
              " * @fileoverview Helpers for google.colab Python module.\n",
              " */\n",
              "(function(scope) {\n",
              "function span(text, styleAttributes = {}) {\n",
              "  const element = document.createElement('span');\n",
              "  element.textContent = text;\n",
              "  for (const key of Object.keys(styleAttributes)) {\n",
              "    element.style[key] = styleAttributes[key];\n",
              "  }\n",
              "  return element;\n",
              "}\n",
              "\n",
              "// Max number of bytes which will be uploaded at a time.\n",
              "const MAX_PAYLOAD_SIZE = 100 * 1024;\n",
              "\n",
              "function _uploadFiles(inputId, outputId) {\n",
              "  const steps = uploadFilesStep(inputId, outputId);\n",
              "  const outputElement = document.getElementById(outputId);\n",
              "  // Cache steps on the outputElement to make it available for the next call\n",
              "  // to uploadFilesContinue from Python.\n",
              "  outputElement.steps = steps;\n",
              "\n",
              "  return _uploadFilesContinue(outputId);\n",
              "}\n",
              "\n",
              "// This is roughly an async generator (not supported in the browser yet),\n",
              "// where there are multiple asynchronous steps and the Python side is going\n",
              "// to poll for completion of each step.\n",
              "// This uses a Promise to block the python side on completion of each step,\n",
              "// then passes the result of the previous step as the input to the next step.\n",
              "function _uploadFilesContinue(outputId) {\n",
              "  const outputElement = document.getElementById(outputId);\n",
              "  const steps = outputElement.steps;\n",
              "\n",
              "  const next = steps.next(outputElement.lastPromiseValue);\n",
              "  return Promise.resolve(next.value.promise).then((value) => {\n",
              "    // Cache the last promise value to make it available to the next\n",
              "    // step of the generator.\n",
              "    outputElement.lastPromiseValue = value;\n",
              "    return next.value.response;\n",
              "  });\n",
              "}\n",
              "\n",
              "/**\n",
              " * Generator function which is called between each async step of the upload\n",
              " * process.\n",
              " * @param {string} inputId Element ID of the input file picker element.\n",
              " * @param {string} outputId Element ID of the output display.\n",
              " * @return {!Iterable<!Object>} Iterable of next steps.\n",
              " */\n",
              "function* uploadFilesStep(inputId, outputId) {\n",
              "  const inputElement = document.getElementById(inputId);\n",
              "  inputElement.disabled = false;\n",
              "\n",
              "  const outputElement = document.getElementById(outputId);\n",
              "  outputElement.innerHTML = '';\n",
              "\n",
              "  const pickedPromise = new Promise((resolve) => {\n",
              "    inputElement.addEventListener('change', (e) => {\n",
              "      resolve(e.target.files);\n",
              "    });\n",
              "  });\n",
              "\n",
              "  const cancel = document.createElement('button');\n",
              "  inputElement.parentElement.appendChild(cancel);\n",
              "  cancel.textContent = 'Cancel upload';\n",
              "  const cancelPromise = new Promise((resolve) => {\n",
              "    cancel.onclick = () => {\n",
              "      resolve(null);\n",
              "    };\n",
              "  });\n",
              "\n",
              "  // Wait for the user to pick the files.\n",
              "  const files = yield {\n",
              "    promise: Promise.race([pickedPromise, cancelPromise]),\n",
              "    response: {\n",
              "      action: 'starting',\n",
              "    }\n",
              "  };\n",
              "\n",
              "  cancel.remove();\n",
              "\n",
              "  // Disable the input element since further picks are not allowed.\n",
              "  inputElement.disabled = true;\n",
              "\n",
              "  if (!files) {\n",
              "    return {\n",
              "      response: {\n",
              "        action: 'complete',\n",
              "      }\n",
              "    };\n",
              "  }\n",
              "\n",
              "  for (const file of files) {\n",
              "    const li = document.createElement('li');\n",
              "    li.append(span(file.name, {fontWeight: 'bold'}));\n",
              "    li.append(span(\n",
              "        `(${file.type || 'n/a'}) - ${file.size} bytes, ` +\n",
              "        `last modified: ${\n",
              "            file.lastModifiedDate ? file.lastModifiedDate.toLocaleDateString() :\n",
              "                                    'n/a'} - `));\n",
              "    const percent = span('0% done');\n",
              "    li.appendChild(percent);\n",
              "\n",
              "    outputElement.appendChild(li);\n",
              "\n",
              "    const fileDataPromise = new Promise((resolve) => {\n",
              "      const reader = new FileReader();\n",
              "      reader.onload = (e) => {\n",
              "        resolve(e.target.result);\n",
              "      };\n",
              "      reader.readAsArrayBuffer(file);\n",
              "    });\n",
              "    // Wait for the data to be ready.\n",
              "    let fileData = yield {\n",
              "      promise: fileDataPromise,\n",
              "      response: {\n",
              "        action: 'continue',\n",
              "      }\n",
              "    };\n",
              "\n",
              "    // Use a chunked sending to avoid message size limits. See b/62115660.\n",
              "    let position = 0;\n",
              "    do {\n",
              "      const length = Math.min(fileData.byteLength - position, MAX_PAYLOAD_SIZE);\n",
              "      const chunk = new Uint8Array(fileData, position, length);\n",
              "      position += length;\n",
              "\n",
              "      const base64 = btoa(String.fromCharCode.apply(null, chunk));\n",
              "      yield {\n",
              "        response: {\n",
              "          action: 'append',\n",
              "          file: file.name,\n",
              "          data: base64,\n",
              "        },\n",
              "      };\n",
              "\n",
              "      let percentDone = fileData.byteLength === 0 ?\n",
              "          100 :\n",
              "          Math.round((position / fileData.byteLength) * 100);\n",
              "      percent.textContent = `${percentDone}% done`;\n",
              "\n",
              "    } while (position < fileData.byteLength);\n",
              "  }\n",
              "\n",
              "  // All done.\n",
              "  yield {\n",
              "    response: {\n",
              "      action: 'complete',\n",
              "    }\n",
              "  };\n",
              "}\n",
              "\n",
              "scope.google = scope.google || {};\n",
              "scope.google.colab = scope.google.colab || {};\n",
              "scope.google.colab._files = {\n",
              "  _uploadFiles,\n",
              "  _uploadFilesContinue,\n",
              "};\n",
              "})(self);\n",
              "</script> "
            ]
          },
          "metadata": {}
        },
        {
          "output_type": "stream",
          "name": "stdout",
          "text": [
            "Saving helper_functions.py to helper_functions.py\n",
            "{'helper_functions.py': b'# import gradio as gr\\nimport os\\n\\n# Used to securely store your API key\\nfrom google.colab import userdata\\n\\nimport random\\n\\n\\nimport google.generativeai as genai\\n# Or use `os.getenv(\\'GEMINI_API_KEY\\')` to fetch an environment variable.\\nGEMINI_API_KEY : str = userdata.get(\"GEMINI_API_KEY\")\\n\\ngenai.configure(api_key=GEMINI_API_KEY)\\n\\nfrom google.generativeai import GenerativeModel\\nfrom google.generativeai.types.generation_types import GenerateContentResponse\\n\\n\\nclient : GenerativeModel = genai.GenerativeModel(\"gemini-1.5-flash\")\\n\\n\\n\\n\\ndef print_llm_response(prompt):\\n    \"\"\"This function takes as input a prompt, which must be a string enclosed in quotation marks,\\n    and passes it to OpenAI\\'s GPT3.5 model. The function then prints the response of the model.\\n    \"\"\"\\n    llm_response = get_llm_response(prompt)\\n    print(llm_response)\\n\\n\\ndef get_llm_response(prompt):\\n    \"\"\"This function takes as input a prompt, which must be a string enclosed in quotation marks,\\n    and passes it to OpenAI\\'s GPT3.5 model. The function then saves the response of the model as\\n    a string.\\n    \"\"\"\\n    try:\\n        if not isinstance(prompt, str):\\n            raise ValueError(\"Input must be a string enclosed in quotes.\")\\n        completion  : GenerateContentResponse = client.generate_content(prompt)\\n        response = completion.text\\n        return response\\n    except TypeError as e:\\n        print(\"Error:\", str(e))\\n\\n\\ndef get_chat_completion(prompt, history):\\n    history_string = \"\\\\n\\\\n\".join([\"\\\\n\".join(turn) for turn in history])\\n    prompt_with_history = f\"{history_string}\\\\n\\\\n{prompt}\"\\n    completion : GenerateContentResponse = client.generate_content(prompt)\\n    response = completion.text\\n    return response\\n\\n\\n# def open_chatbot():\\n#     \"\"\"This function opens a Gradio chatbot window that is connected to OpenAI\\'s GPT3.5 model.\"\"\"\\n#     gr.close_all()\\n#     gr.ChatInterface(fn=get_chat_completion).launch(quiet=True)\\n\\ndef get_dog_age(human_age):\\n    \"\"\"This function takes one parameter: a person\\'s age as an integer and returns their age if\\n    they were a dog, which is their age divided by 7. \"\"\"\\n    return human_age / 7\\n\\ndef get_goldfish_age(human_age):\\n    \"\"\"This function takes one parameter: a person\\'s age as an integer and returns their age if\\n    they were a dog, which is their age divided by 5. \"\"\"\\n    return human_age / 5\\n\\ndef get_cat_age(human_age):\\n    if human_age <= 14:\\n        # For the first 14 human years, we consider the age as if it\\'s within the first two cat years.\\n        cat_age = human_age / 7\\n    else:\\n        # For human ages beyond 14 years:\\n        cat_age = 2 + (human_age - 14) / 4\\n    return cat_age\\n\\ndef get_random_ingredient():\\n    \"\"\"\\n    Returns a random ingredient from a list of 20 smoothie ingredients.\\n    \\n    The ingredients are a bit wacky but not gross, making for an interesting smoothie combination.\\n    \\n    Returns:\\n        str: A randomly selected smoothie ingredient.\\n    \"\"\"\\n    ingredients = [\\n        \"rainbow kale\", \"glitter berries\", \"unicorn tears\", \"coconut\", \"starlight honey\",\\n        \"lunar lemon\", \"blueberries\", \"mermaid mint\", \"dragon fruit\", \"pixie dust\",\\n        \"butterfly pea flower\", \"phoenix feather\", \"chocolate protein powder\", \"grapes\", \"hot peppers\",\\n        \"fairy floss\", \"avocado\", \"wizard\\'s beard\", \"pineapple\", \"rosemary\"\\n    ]\\n    \\n    return random.choice(ingredients)\\n\\ndef get_random_number(x, y):\\n    \"\"\"\\n        Returns a random integer between x and y, inclusive.\\n        \\n        Args:\\n            x (int): The lower bound (inclusive) of the random number range.\\n            y (int): The upper bound (inclusive) of the random number range.\\n        \\n        Returns:\\n            int: A randomly generated integer between x and y, inclusive.\\n\\n        \"\"\"\\n    return random.randint(x, y)\\n\\ndef calculate_llm_cost(characters, price_per_1000_tokens=0.015):\\n    tokens = characters / 4\\n    cost = (tokens / 1000) * price_per_1000_tokens\\n    return f\"${cost:.4f}\"'}\n"
          ]
        }
      ]
    },
    {
      "cell_type": "markdown",
      "source": [
        "upload file"
      ],
      "metadata": {
        "id": "ZSMfDBKc9z4Y"
      }
    },
    {
      "cell_type": "code",
      "source": [],
      "metadata": {
        "id": "_S5D11okZN3v"
      },
      "execution_count": null,
      "outputs": []
    }
  ]
}