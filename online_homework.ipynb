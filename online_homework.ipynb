{
  "nbformat": 4,
  "nbformat_minor": 0,
  "metadata": {
    "colab": {
      "provenance": [],
      "authorship_tag": "ABX9TyMOFqS9dGkgvL4PS3AA+Mb2",
      "include_colab_link": true
    },
    "kernelspec": {
      "name": "python3",
      "display_name": "Python 3"
    },
    "language_info": {
      "name": "python"
    }
  },
  "cells": [
    {
      "cell_type": "markdown",
      "metadata": {
        "id": "view-in-github",
        "colab_type": "text"
      },
      "source": [
        "<a href=\"https://colab.research.google.com/github/sobizade1/homework/blob/main/online_homework.ipynb\" target=\"_parent\"><img src=\"https://colab.research.google.com/assets/colab-badge.svg\" alt=\"Open In Colab\"/></a>"
      ]
    },
    {
      "cell_type": "markdown",
      "source": [
        "Milestone #1: Mars *Weight*\n",
        "Mercury: 37.6%\n",
        "\n",
        "Venus: 88.9%\n",
        "\n",
        "Mars: 37.8%\n",
        "\n",
        "Jupiter: 236.0%\n",
        "\n",
        "Saturn: 108.1%\n",
        "\n",
        "Uranus: 81.5%\n",
        "\n",
        "Neptune: 114.0%"
      ],
      "metadata": {
        "id": "8fGEJVJCZ_U1"
      }
    },
    {
      "cell_type": "markdown",
      "source": [],
      "metadata": {
        "id": "TY_JCbdhb72M"
      }
    },
    {
      "cell_type": "code",
      "source": [
        "wt=int(input(\"Enter a weight on Earth: \"))\n",
        "planet=input(\"Enter a planet: \")\n",
        "if planet==\"Mars\":\n",
        "    print(f\"The equivalent on Mars: {round(wt*37.8/100,2)}\")\n",
        "elif planet==\"Mercury\":\n",
        "    print(f\"The equivalent on Mercury: {round(wt*37.6/100,2)}\")\n",
        "elif planet==\"Venus\":\n",
        "    print(f\"The equivalent on Venus: {round(wt*88.9/100,2)}\")\n",
        "elif planet==\"Jupiter\":\n",
        "    print(f\"The equivalent on Jupiter: {round(wt*236/100,2)}\")\n",
        "elif planet==\"Saturn\":\n",
        "    print(f\"The equivalent on Saturn: {round(wt*108.1/100,2)}\")\n",
        "elif planet==\"Uranus\":\n",
        "    print(f\"The equivalent on Uranus: {round(wt*81.5/100,2)}\")\n",
        "else :\n",
        "    print(f\"The equivalent on Neptune: {round(wt*114/100,2)}\")"
      ],
      "metadata": {
        "colab": {
          "base_uri": "https://localhost:8080/"
        },
        "id": "I8i9KdFxaD0f",
        "outputId": "476bfa1d-2588-4051-c85c-a3c49d76318b"
      },
      "execution_count": 6,
      "outputs": [
        {
          "output_type": "stream",
          "name": "stdout",
          "text": [
            "Enter a weight on Earth: 120\n",
            "Enter a planet: mercury\n",
            "The equivalent on Neptune: 136.8\n"
          ]
        }
      ]
    },
    {
      "cell_type": "markdown",
      "source": [
        "Problem #2: Index Game. Create a Python program that helps you practice accessing and manipulating elements in a list. This exercise will help you get comfortable with indexing, slicing, and modifying list elements."
      ],
      "metadata": {
        "id": "PBXy4wpIegLS"
      }
    },
    {
      "cell_type": "code",
      "source": [
        "def index_game():\n",
        "    my_list = [1, 2, 3, 4, 5, 6, 7, 8, 9, 10]\n",
        "    print(\"Original list:\", my_list)\n",
        "def access(lis,index):\n",
        " try:\n",
        "        return lis[index]\n",
        " except IndexError:\n",
        "        return \"Index out of range.\"\n",
        "def modify(lis,index,value):\n",
        "    try:\n",
        "        lis[index]=value\n",
        "        return lis\n",
        "    except IndexError:\n",
        "        return \"Index out of range.\"\n",
        "def slice(lis,start,end):\n",
        "    return lis[start:end]\n",
        "\n",
        "my_list=[1,2,3,4,5,6]\n",
        "print(\"Current list:\", my_list)\n",
        "print(\"Choose an operation: access, modify, slice\")\n",
        "operation = input(\"Enter operation: \")\n",
        "if operation == \"access\":\n",
        "    index = int(input(\"Enter index: \"))\n",
        "    print(\"Element at index\", index, \"is\", access(my_list, index))\n",
        "elif operation == \"modify\":\n",
        "    index = int(input(\"Enter index: \"))\n",
        "    value = int(input(\"Enter value: \"))\n",
        "    print(\"Modified list:\", modify(my_list, index, value))\n",
        "elif operation == \"slice\":\n",
        "    start = int(input(\"Enter start index: \"))\n",
        "    end = int(input(\"Enter end index: \"))\n",
        "    print(\"Sliced list:\", slice(my_list, start, end))\n",
        "else:\n",
        "    print(\"Invalid operation.\")\n"
      ],
      "metadata": {
        "colab": {
          "base_uri": "https://localhost:8080/"
        },
        "id": "pD7ge0SqehvM",
        "outputId": "06c9fc56-8c7c-442d-8271-b4f52de01f66"
      },
      "execution_count": 8,
      "outputs": [
        {
          "output_type": "stream",
          "name": "stdout",
          "text": [
            "Current list: [1, 2, 3, 4, 5, 6]\n",
            "Choose an operation: access, modify, slice\n",
            "Enter operation: access\n",
            "Enter index: 4\n",
            "Element at index 4 is 5\n"
          ]
        }
      ]
    },
    {
      "cell_type": "code",
      "execution_count": null,
      "metadata": {
        "id": "a3HkOiLdZ6Nb"
      },
      "outputs": [],
      "source": []
    }
  ]
}