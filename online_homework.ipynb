{
  "nbformat": 4,
  "nbformat_minor": 0,
  "metadata": {
    "colab": {
      "provenance": [],
      "authorship_tag": "ABX9TyOQ/A2a4hOOffpwG35EW+iD",
      "include_colab_link": true
    },
    "kernelspec": {
      "name": "python3",
      "display_name": "Python 3"
    },
    "language_info": {
      "name": "python"
    }
  },
  "cells": [
    {
      "cell_type": "markdown",
      "metadata": {
        "id": "view-in-github",
        "colab_type": "text"
      },
      "source": [
        "<a href=\"https://colab.research.google.com/github/sobizade1/homework/blob/main/online_homework.ipynb\" target=\"_parent\"><img src=\"https://colab.research.google.com/assets/colab-badge.svg\" alt=\"Open In Colab\"/></a>"
      ]
    },
    {
      "cell_type": "markdown",
      "source": [
        "Milestone #1: Mars *Weight*\n",
        "Mercury: 37.6%\n",
        "\n",
        "Venus: 88.9%\n",
        "\n",
        "Mars: 37.8%\n",
        "\n",
        "Jupiter: 236.0%\n",
        "\n",
        "Saturn: 108.1%\n",
        "\n",
        "Uranus: 81.5%\n",
        "\n",
        "Neptune: 114.0%"
      ],
      "metadata": {
        "id": "8fGEJVJCZ_U1"
      }
    },
    {
      "cell_type": "markdown",
      "source": [],
      "metadata": {
        "id": "TY_JCbdhb72M"
      }
    },
    {
      "cell_type": "code",
      "source": [
        "wt=int(input(\"Enter a weight on Earth: \"))\n",
        "planet=input(\"Enter a planet: \")\n",
        "if planet==\"Mars\":\n",
        "    print(f\"The equivalent on Mars: {round(wt*37.8/100,2)}\")\n",
        "elif planet==\"Mercury\":\n",
        "    print(f\"The equivalent on Mercury: {round(wt*37.6/100,2)}\")\n",
        "elif planet==\"Venus\":\n",
        "    print(f\"The equivalent on Venus: {round(wt*88.9/100,2)}\")\n",
        "elif planet==\"Jupiter\":\n",
        "    print(f\"The equivalent on Jupiter: {round(wt*236/100,2)}\")\n",
        "elif planet==\"Saturn\":\n",
        "    print(f\"The equivalent on Saturn: {round(wt*108.1/100,2)}\")\n",
        "elif planet==\"Uranus\":\n",
        "    print(f\"The equivalent on Uranus: {round(wt*81.5/100,2)}\")\n",
        "else :\n",
        "    print(f\"The equivalent on Neptune: {round(wt*114/100,2)}\")"
      ],
      "metadata": {
        "colab": {
          "base_uri": "https://localhost:8080/"
        },
        "id": "I8i9KdFxaD0f",
        "outputId": "476bfa1d-2588-4051-c85c-a3c49d76318b"
      },
      "execution_count": 6,
      "outputs": [
        {
          "output_type": "stream",
          "name": "stdout",
          "text": [
            "Enter a weight on Earth: 120\n",
            "Enter a planet: mercury\n",
            "The equivalent on Neptune: 136.8\n"
          ]
        }
      ]
    },
    {
      "cell_type": "code",
      "execution_count": null,
      "metadata": {
        "id": "a3HkOiLdZ6Nb"
      },
      "outputs": [],
      "source": []
    }
  ]
}